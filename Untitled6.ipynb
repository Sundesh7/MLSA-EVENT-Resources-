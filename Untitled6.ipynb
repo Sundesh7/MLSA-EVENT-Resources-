{
  "nbformat": 4,
  "nbformat_minor": 0,
  "metadata": {
    "colab": {
      "provenance": [],
      "gpuType": "T4",
      "authorship_tag": "ABX9TyO+DASrrG+UVJ+TOXCYm4zV",
      "include_colab_link": true
    },
    "kernelspec": {
      "name": "python3",
      "display_name": "Python 3"
    },
    "language_info": {
      "name": "python"
    },
    "accelerator": "GPU"
  },
  "cells": [
    {
      "cell_type": "markdown",
      "metadata": {
        "id": "view-in-github",
        "colab_type": "text"
      },
      "source": [
        "<a href=\"https://colab.research.google.com/github/Sundesh7/MLSA-NODE-Resources/blob/main/Untitled6.ipynb\" target=\"_parent\"><img src=\"https://colab.research.google.com/assets/colab-badge.svg\" alt=\"Open In Colab\"/></a>"
      ]
    },
    {
      "cell_type": "code",
      "source": [
        "!pip install roboflow\n",
        "\n",
        "from roboflow import Roboflow\n",
        "rf = Roboflow(api_key=\"8yQB3PmZDGzH78LxDy3u\")\n",
        "project = rf.workspace(\"capstone-project-baym7\").project(\"dut-capstone-project-seg\")\n",
        "dataset = project.version(19).download(\"yolov8\")"
      ],
      "metadata": {
        "colab": {
          "base_uri": "https://localhost:8080/",
          "height": 1000
        },
        "id": "EQuhM_Ai7VX0",
        "outputId": "ea208935-6e5d-4fc7-f6c7-37510bc7670e"
      },
      "execution_count": 1,
      "outputs": [
        {
          "output_type": "stream",
          "name": "stdout",
          "text": [
            "Collecting roboflow\n",
            "  Downloading roboflow-1.1.12-py3-none-any.whl (68 kB)\n",
            "\u001b[2K     \u001b[90m━━━━━━━━━━━━━━━━━━━━━━━━━━━━━━━━━━━━━━━━\u001b[0m \u001b[32m68.5/68.5 kB\u001b[0m \u001b[31m1.0 MB/s\u001b[0m eta \u001b[36m0:00:00\u001b[0m\n",
            "\u001b[?25hCollecting certifi==2023.7.22 (from roboflow)\n",
            "  Downloading certifi-2023.7.22-py3-none-any.whl (158 kB)\n",
            "\u001b[2K     \u001b[90m━━━━━━━━━━━━━━━━━━━━━━━━━━━━━━━━━━━━━━━━\u001b[0m \u001b[32m158.3/158.3 kB\u001b[0m \u001b[31m3.2 MB/s\u001b[0m eta \u001b[36m0:00:00\u001b[0m\n",
            "\u001b[?25hCollecting chardet==4.0.0 (from roboflow)\n",
            "  Downloading chardet-4.0.0-py2.py3-none-any.whl (178 kB)\n",
            "\u001b[2K     \u001b[90m━━━━━━━━━━━━━━━━━━━━━━━━━━━━━━━━━━━━━━━━\u001b[0m \u001b[32m178.7/178.7 kB\u001b[0m \u001b[31m13.2 MB/s\u001b[0m eta \u001b[36m0:00:00\u001b[0m\n",
            "\u001b[?25hCollecting cycler==0.10.0 (from roboflow)\n",
            "  Downloading cycler-0.10.0-py2.py3-none-any.whl (6.5 kB)\n",
            "Collecting idna==2.10 (from roboflow)\n",
            "  Downloading idna-2.10-py2.py3-none-any.whl (58 kB)\n",
            "\u001b[2K     \u001b[90m━━━━━━━━━━━━━━━━━━━━━━━━━━━━━━━━━━━━━━━━\u001b[0m \u001b[32m58.8/58.8 kB\u001b[0m \u001b[31m7.0 MB/s\u001b[0m eta \u001b[36m0:00:00\u001b[0m\n",
            "\u001b[?25hRequirement already satisfied: kiwisolver>=1.3.1 in /usr/local/lib/python3.10/dist-packages (from roboflow) (1.4.5)\n",
            "Requirement already satisfied: matplotlib in /usr/local/lib/python3.10/dist-packages (from roboflow) (3.7.1)\n",
            "Requirement already satisfied: numpy>=1.18.5 in /usr/local/lib/python3.10/dist-packages (from roboflow) (1.23.5)\n",
            "Collecting opencv-python-headless==4.8.0.74 (from roboflow)\n",
            "  Downloading opencv_python_headless-4.8.0.74-cp37-abi3-manylinux_2_17_x86_64.manylinux2014_x86_64.whl (49.1 MB)\n",
            "\u001b[2K     \u001b[90m━━━━━━━━━━━━━━━━━━━━━━━━━━━━━━━━━━━━━━━━\u001b[0m \u001b[32m49.1/49.1 MB\u001b[0m \u001b[31m14.0 MB/s\u001b[0m eta \u001b[36m0:00:00\u001b[0m\n",
            "\u001b[?25hRequirement already satisfied: Pillow>=7.1.2 in /usr/local/lib/python3.10/dist-packages (from roboflow) (9.4.0)\n",
            "Collecting pyparsing==2.4.7 (from roboflow)\n",
            "  Downloading pyparsing-2.4.7-py2.py3-none-any.whl (67 kB)\n",
            "\u001b[2K     \u001b[90m━━━━━━━━━━━━━━━━━━━━━━━━━━━━━━━━━━━━━━━━\u001b[0m \u001b[32m67.8/67.8 kB\u001b[0m \u001b[31m6.0 MB/s\u001b[0m eta \u001b[36m0:00:00\u001b[0m\n",
            "\u001b[?25hRequirement already satisfied: python-dateutil in /usr/local/lib/python3.10/dist-packages (from roboflow) (2.8.2)\n",
            "Collecting python-dotenv (from roboflow)\n",
            "  Downloading python_dotenv-1.0.0-py3-none-any.whl (19 kB)\n",
            "Requirement already satisfied: requests in /usr/local/lib/python3.10/dist-packages (from roboflow) (2.31.0)\n",
            "Requirement already satisfied: six in /usr/local/lib/python3.10/dist-packages (from roboflow) (1.16.0)\n",
            "Collecting supervision (from roboflow)\n",
            "  Downloading supervision-0.17.1-py3-none-any.whl (77 kB)\n",
            "\u001b[2K     \u001b[90m━━━━━━━━━━━━━━━━━━━━━━━━━━━━━━━━━━━━━━━━\u001b[0m \u001b[32m77.5/77.5 kB\u001b[0m \u001b[31m9.1 MB/s\u001b[0m eta \u001b[36m0:00:00\u001b[0m\n",
            "\u001b[?25hRequirement already satisfied: urllib3>=1.26.6 in /usr/local/lib/python3.10/dist-packages (from roboflow) (2.0.7)\n",
            "Requirement already satisfied: tqdm>=4.41.0 in /usr/local/lib/python3.10/dist-packages (from roboflow) (4.66.1)\n",
            "Requirement already satisfied: PyYAML>=5.3.1 in /usr/local/lib/python3.10/dist-packages (from roboflow) (6.0.1)\n",
            "Collecting requests-toolbelt (from roboflow)\n",
            "  Downloading requests_toolbelt-1.0.0-py2.py3-none-any.whl (54 kB)\n",
            "\u001b[2K     \u001b[90m━━━━━━━━━━━━━━━━━━━━━━━━━━━━━━━━━━━━━━━━\u001b[0m \u001b[32m54.5/54.5 kB\u001b[0m \u001b[31m6.7 MB/s\u001b[0m eta \u001b[36m0:00:00\u001b[0m\n",
            "\u001b[?25hCollecting python-magic (from roboflow)\n",
            "  Downloading python_magic-0.4.27-py2.py3-none-any.whl (13 kB)\n",
            "Requirement already satisfied: contourpy>=1.0.1 in /usr/local/lib/python3.10/dist-packages (from matplotlib->roboflow) (1.2.0)\n",
            "Requirement already satisfied: fonttools>=4.22.0 in /usr/local/lib/python3.10/dist-packages (from matplotlib->roboflow) (4.46.0)\n",
            "Requirement already satisfied: packaging>=20.0 in /usr/local/lib/python3.10/dist-packages (from matplotlib->roboflow) (23.2)\n",
            "Requirement already satisfied: charset-normalizer<4,>=2 in /usr/local/lib/python3.10/dist-packages (from requests->roboflow) (3.3.2)\n",
            "Requirement already satisfied: scipy>=1.9.0 in /usr/local/lib/python3.10/dist-packages (from supervision->roboflow) (1.11.4)\n",
            "Installing collected packages: python-magic, python-dotenv, pyparsing, opencv-python-headless, idna, cycler, chardet, certifi, supervision, requests-toolbelt, roboflow\n",
            "  Attempting uninstall: pyparsing\n",
            "    Found existing installation: pyparsing 3.1.1\n",
            "    Uninstalling pyparsing-3.1.1:\n",
            "      Successfully uninstalled pyparsing-3.1.1\n",
            "  Attempting uninstall: opencv-python-headless\n",
            "    Found existing installation: opencv-python-headless 4.8.1.78\n",
            "    Uninstalling opencv-python-headless-4.8.1.78:\n",
            "      Successfully uninstalled opencv-python-headless-4.8.1.78\n",
            "  Attempting uninstall: idna\n",
            "    Found existing installation: idna 3.6\n",
            "    Uninstalling idna-3.6:\n",
            "      Successfully uninstalled idna-3.6\n",
            "  Attempting uninstall: cycler\n",
            "    Found existing installation: cycler 0.12.1\n",
            "    Uninstalling cycler-0.12.1:\n",
            "      Successfully uninstalled cycler-0.12.1\n",
            "  Attempting uninstall: chardet\n",
            "    Found existing installation: chardet 5.2.0\n",
            "    Uninstalling chardet-5.2.0:\n",
            "      Successfully uninstalled chardet-5.2.0\n",
            "  Attempting uninstall: certifi\n",
            "    Found existing installation: certifi 2023.11.17\n",
            "    Uninstalling certifi-2023.11.17:\n",
            "      Successfully uninstalled certifi-2023.11.17\n",
            "\u001b[31mERROR: pip's dependency resolver does not currently take into account all the packages that are installed. This behaviour is the source of the following dependency conflicts.\n",
            "lida 0.0.10 requires fastapi, which is not installed.\n",
            "lida 0.0.10 requires kaleido, which is not installed.\n",
            "lida 0.0.10 requires python-multipart, which is not installed.\n",
            "lida 0.0.10 requires uvicorn, which is not installed.\u001b[0m\u001b[31m\n",
            "\u001b[0mSuccessfully installed certifi-2023.7.22 chardet-4.0.0 cycler-0.10.0 idna-2.10 opencv-python-headless-4.8.0.74 pyparsing-2.4.7 python-dotenv-1.0.0 python-magic-0.4.27 requests-toolbelt-1.0.0 roboflow-1.1.12 supervision-0.17.1\n"
          ]
        },
        {
          "output_type": "display_data",
          "data": {
            "application/vnd.colab-display-data+json": {
              "pip_warning": {
                "packages": [
                  "certifi",
                  "cycler",
                  "pyparsing"
                ]
              }
            }
          },
          "metadata": {}
        },
        {
          "output_type": "stream",
          "name": "stdout",
          "text": [
            "loading Roboflow workspace...\n",
            "loading Roboflow project...\n",
            "[WARNING] we noticed you are downloading a `yolov8` datasets but you don't have `ultralytics` installed. Roboflow `.deploy` supports only models trained with `ultralytics==8.0.196`, to intall it `pip install ultralytics==8.0.196`.\n"
          ]
        },
        {
          "output_type": "stream",
          "name": "stderr",
          "text": [
            "Downloading Dataset Version Zip in dut-capstone-project-seg-19 to yolov8:: 100%|██████████| 252321/252321 [00:04<00:00, 60183.39it/s]"
          ]
        },
        {
          "output_type": "stream",
          "name": "stdout",
          "text": [
            "\n"
          ]
        },
        {
          "output_type": "stream",
          "name": "stderr",
          "text": [
            "\n",
            "Extracting Dataset Version Zip to dut-capstone-project-seg-19 in yolov8:: 100%|██████████| 5234/5234 [00:03<00:00, 1620.43it/s]\n"
          ]
        }
      ]
    },
    {
      "cell_type": "code",
      "execution_count": 2,
      "metadata": {
        "id": "E6BRsrJ76Me5"
      },
      "outputs": [],
      "source": [
        "import glob"
      ]
    },
    {
      "cell_type": "code",
      "source": [
        "import os\n"
      ],
      "metadata": {
        "id": "ytbLo3ur8ELg"
      },
      "execution_count": 3,
      "outputs": []
    },
    {
      "cell_type": "code",
      "source": [
        "from IPython.display import *"
      ],
      "metadata": {
        "id": "5WtWBLlkCAU_"
      },
      "execution_count": 8,
      "outputs": []
    },
    {
      "cell_type": "code",
      "source": [
        "display,clear_output()"
      ],
      "metadata": {
        "colab": {
          "base_uri": "https://localhost:8080/"
        },
        "id": "u-ee9wi58Fiw",
        "outputId": "51fd2935-d319-41c2-902f-d8bb0f052d20"
      },
      "execution_count": 9,
      "outputs": [
        {
          "output_type": "execute_result",
          "data": {
            "text/plain": [
              "(<function IPython.core.display.display(*objs, include=None, exclude=None, metadata=None, transient=None, display_id=None, **kwargs)>,\n",
              " None)"
            ]
          },
          "metadata": {},
          "execution_count": 9
        }
      ]
    },
    {
      "cell_type": "code",
      "source": [
        "HOME = os.getcwd()"
      ],
      "metadata": {
        "id": "JDUjY1WXCXEe"
      },
      "execution_count": 10,
      "outputs": []
    },
    {
      "cell_type": "code",
      "source": [
        "print(HOME)"
      ],
      "metadata": {
        "colab": {
          "base_uri": "https://localhost:8080/"
        },
        "id": "hwM2fSpBCdHe",
        "outputId": "438930f9-4663-47bd-b335-ce8b1b4ddf6e"
      },
      "execution_count": 11,
      "outputs": [
        {
          "output_type": "stream",
          "name": "stdout",
          "text": [
            "/content\n"
          ]
        }
      ]
    },
    {
      "cell_type": "code",
      "source": [
        "!pip install ultralytics==8.0.0"
      ],
      "metadata": {
        "colab": {
          "base_uri": "https://localhost:8080/",
          "height": 1000
        },
        "id": "HJOuEY2BCegu",
        "outputId": "a7339d66-9aed-4d80-8be0-1899726dab7d"
      },
      "execution_count": 12,
      "outputs": [
        {
          "output_type": "stream",
          "name": "stdout",
          "text": [
            "Collecting ultralytics==8.0.0\n",
            "  Downloading ultralytics-8.0.0-py3-none-any.whl (219 kB)\n",
            "\u001b[2K     \u001b[90m━━━━━━━━━━━━━━━━━━━━━━━━━━━━━━━━━━━━━━━━\u001b[0m \u001b[32m219.8/219.8 kB\u001b[0m \u001b[31m2.1 MB/s\u001b[0m eta \u001b[36m0:00:00\u001b[0m\n",
            "\u001b[?25hCollecting hydra-core>=1.2.0 (from ultralytics==8.0.0)\n",
            "  Downloading hydra_core-1.3.2-py3-none-any.whl (154 kB)\n",
            "\u001b[2K     \u001b[90m━━━━━━━━━━━━━━━━━━━━━━━━━━━━━━━━━━━━━━━━\u001b[0m \u001b[32m154.5/154.5 kB\u001b[0m \u001b[31m10.2 MB/s\u001b[0m eta \u001b[36m0:00:00\u001b[0m\n",
            "\u001b[?25hRequirement already satisfied: matplotlib>=3.2.2 in /usr/local/lib/python3.10/dist-packages (from ultralytics==8.0.0) (3.7.1)\n",
            "Requirement already satisfied: numpy>=1.18.5 in /usr/local/lib/python3.10/dist-packages (from ultralytics==8.0.0) (1.23.5)\n",
            "Requirement already satisfied: opencv-python>=4.1.1 in /usr/local/lib/python3.10/dist-packages (from ultralytics==8.0.0) (4.8.0.76)\n",
            "Requirement already satisfied: Pillow>=7.1.2 in /usr/local/lib/python3.10/dist-packages (from ultralytics==8.0.0) (9.4.0)\n",
            "Requirement already satisfied: PyYAML>=5.3.1 in /usr/local/lib/python3.10/dist-packages (from ultralytics==8.0.0) (6.0.1)\n",
            "Requirement already satisfied: requests>=2.23.0 in /usr/local/lib/python3.10/dist-packages (from ultralytics==8.0.0) (2.31.0)\n",
            "Requirement already satisfied: scipy>=1.4.1 in /usr/local/lib/python3.10/dist-packages (from ultralytics==8.0.0) (1.11.4)\n",
            "Requirement already satisfied: torch>=1.7.0 in /usr/local/lib/python3.10/dist-packages (from ultralytics==8.0.0) (2.1.0+cu118)\n",
            "Requirement already satisfied: torchvision>=0.8.1 in /usr/local/lib/python3.10/dist-packages (from ultralytics==8.0.0) (0.16.0+cu118)\n",
            "Requirement already satisfied: tqdm>=4.64.0 in /usr/local/lib/python3.10/dist-packages (from ultralytics==8.0.0) (4.66.1)\n",
            "Requirement already satisfied: tensorboard>=2.4.1 in /usr/local/lib/python3.10/dist-packages (from ultralytics==8.0.0) (2.14.1)\n",
            "Requirement already satisfied: pandas>=1.1.4 in /usr/local/lib/python3.10/dist-packages (from ultralytics==8.0.0) (1.5.3)\n",
            "Requirement already satisfied: seaborn>=0.11.0 in /usr/local/lib/python3.10/dist-packages (from ultralytics==8.0.0) (0.12.2)\n",
            "Requirement already satisfied: ipython in /usr/local/lib/python3.10/dist-packages (from ultralytics==8.0.0) (7.34.0)\n",
            "Requirement already satisfied: psutil in /usr/local/lib/python3.10/dist-packages (from ultralytics==8.0.0) (5.9.5)\n",
            "Collecting thop>=0.1.1 (from ultralytics==8.0.0)\n",
            "  Downloading thop-0.1.1.post2209072238-py3-none-any.whl (15 kB)\n",
            "Collecting GitPython>=3.1.24 (from ultralytics==8.0.0)\n",
            "  Downloading GitPython-3.1.40-py3-none-any.whl (190 kB)\n",
            "\u001b[2K     \u001b[90m━━━━━━━━━━━━━━━━━━━━━━━━━━━━━━━━━━━━━━━━\u001b[0m \u001b[32m190.6/190.6 kB\u001b[0m \u001b[31m13.1 MB/s\u001b[0m eta \u001b[36m0:00:00\u001b[0m\n",
            "\u001b[?25hCollecting gitdb<5,>=4.0.1 (from GitPython>=3.1.24->ultralytics==8.0.0)\n",
            "  Downloading gitdb-4.0.11-py3-none-any.whl (62 kB)\n",
            "\u001b[2K     \u001b[90m━━━━━━━━━━━━━━━━━━━━━━━━━━━━━━━━━━━━━━━━\u001b[0m \u001b[32m62.7/62.7 kB\u001b[0m \u001b[31m8.1 MB/s\u001b[0m eta \u001b[36m0:00:00\u001b[0m\n",
            "\u001b[?25hCollecting omegaconf<2.4,>=2.2 (from hydra-core>=1.2.0->ultralytics==8.0.0)\n",
            "  Downloading omegaconf-2.3.0-py3-none-any.whl (79 kB)\n",
            "\u001b[2K     \u001b[90m━━━━━━━━━━━━━━━━━━━━━━━━━━━━━━━━━━━━━━━━\u001b[0m \u001b[32m79.5/79.5 kB\u001b[0m \u001b[31m10.5 MB/s\u001b[0m eta \u001b[36m0:00:00\u001b[0m\n",
            "\u001b[?25hCollecting antlr4-python3-runtime==4.9.* (from hydra-core>=1.2.0->ultralytics==8.0.0)\n",
            "  Downloading antlr4-python3-runtime-4.9.3.tar.gz (117 kB)\n",
            "\u001b[2K     \u001b[90m━━━━━━━━━━━━━━━━━━━━━━━━━━━━━━━━━━━━━━━━\u001b[0m \u001b[32m117.0/117.0 kB\u001b[0m \u001b[31m12.5 MB/s\u001b[0m eta \u001b[36m0:00:00\u001b[0m\n",
            "\u001b[?25h  Preparing metadata (setup.py) ... \u001b[?25l\u001b[?25hdone\n",
            "Requirement already satisfied: packaging in /usr/local/lib/python3.10/dist-packages (from hydra-core>=1.2.0->ultralytics==8.0.0) (23.2)\n",
            "Requirement already satisfied: contourpy>=1.0.1 in /usr/local/lib/python3.10/dist-packages (from matplotlib>=3.2.2->ultralytics==8.0.0) (1.2.0)\n",
            "Requirement already satisfied: cycler>=0.10 in /usr/local/lib/python3.10/dist-packages (from matplotlib>=3.2.2->ultralytics==8.0.0) (0.10.0)\n",
            "Requirement already satisfied: fonttools>=4.22.0 in /usr/local/lib/python3.10/dist-packages (from matplotlib>=3.2.2->ultralytics==8.0.0) (4.46.0)\n",
            "Requirement already satisfied: kiwisolver>=1.0.1 in /usr/local/lib/python3.10/dist-packages (from matplotlib>=3.2.2->ultralytics==8.0.0) (1.4.5)\n",
            "Requirement already satisfied: pyparsing>=2.3.1 in /usr/local/lib/python3.10/dist-packages (from matplotlib>=3.2.2->ultralytics==8.0.0) (2.4.7)\n",
            "Requirement already satisfied: python-dateutil>=2.7 in /usr/local/lib/python3.10/dist-packages (from matplotlib>=3.2.2->ultralytics==8.0.0) (2.8.2)\n",
            "Requirement already satisfied: pytz>=2020.1 in /usr/local/lib/python3.10/dist-packages (from pandas>=1.1.4->ultralytics==8.0.0) (2023.3.post1)\n",
            "Requirement already satisfied: charset-normalizer<4,>=2 in /usr/local/lib/python3.10/dist-packages (from requests>=2.23.0->ultralytics==8.0.0) (3.3.2)\n",
            "Requirement already satisfied: idna<4,>=2.5 in /usr/local/lib/python3.10/dist-packages (from requests>=2.23.0->ultralytics==8.0.0) (2.10)\n",
            "Requirement already satisfied: urllib3<3,>=1.21.1 in /usr/local/lib/python3.10/dist-packages (from requests>=2.23.0->ultralytics==8.0.0) (2.0.7)\n",
            "Requirement already satisfied: certifi>=2017.4.17 in /usr/local/lib/python3.10/dist-packages (from requests>=2.23.0->ultralytics==8.0.0) (2023.7.22)\n",
            "Requirement already satisfied: absl-py>=0.4 in /usr/local/lib/python3.10/dist-packages (from tensorboard>=2.4.1->ultralytics==8.0.0) (1.4.0)\n",
            "Requirement already satisfied: grpcio>=1.48.2 in /usr/local/lib/python3.10/dist-packages (from tensorboard>=2.4.1->ultralytics==8.0.0) (1.59.3)\n",
            "Requirement already satisfied: google-auth<3,>=1.6.3 in /usr/local/lib/python3.10/dist-packages (from tensorboard>=2.4.1->ultralytics==8.0.0) (2.17.3)\n",
            "Requirement already satisfied: google-auth-oauthlib<1.1,>=0.5 in /usr/local/lib/python3.10/dist-packages (from tensorboard>=2.4.1->ultralytics==8.0.0) (1.0.0)\n",
            "Requirement already satisfied: markdown>=2.6.8 in /usr/local/lib/python3.10/dist-packages (from tensorboard>=2.4.1->ultralytics==8.0.0) (3.5.1)\n",
            "Requirement already satisfied: protobuf>=3.19.6 in /usr/local/lib/python3.10/dist-packages (from tensorboard>=2.4.1->ultralytics==8.0.0) (3.20.3)\n",
            "Requirement already satisfied: setuptools>=41.0.0 in /usr/local/lib/python3.10/dist-packages (from tensorboard>=2.4.1->ultralytics==8.0.0) (67.7.2)\n",
            "Requirement already satisfied: six>1.9 in /usr/local/lib/python3.10/dist-packages (from tensorboard>=2.4.1->ultralytics==8.0.0) (1.16.0)\n",
            "Requirement already satisfied: tensorboard-data-server<0.8.0,>=0.7.0 in /usr/local/lib/python3.10/dist-packages (from tensorboard>=2.4.1->ultralytics==8.0.0) (0.7.2)\n",
            "Requirement already satisfied: werkzeug>=1.0.1 in /usr/local/lib/python3.10/dist-packages (from tensorboard>=2.4.1->ultralytics==8.0.0) (3.0.1)\n",
            "Requirement already satisfied: filelock in /usr/local/lib/python3.10/dist-packages (from torch>=1.7.0->ultralytics==8.0.0) (3.13.1)\n",
            "Requirement already satisfied: typing-extensions in /usr/local/lib/python3.10/dist-packages (from torch>=1.7.0->ultralytics==8.0.0) (4.5.0)\n",
            "Requirement already satisfied: sympy in /usr/local/lib/python3.10/dist-packages (from torch>=1.7.0->ultralytics==8.0.0) (1.12)\n",
            "Requirement already satisfied: networkx in /usr/local/lib/python3.10/dist-packages (from torch>=1.7.0->ultralytics==8.0.0) (3.2.1)\n",
            "Requirement already satisfied: jinja2 in /usr/local/lib/python3.10/dist-packages (from torch>=1.7.0->ultralytics==8.0.0) (3.1.2)\n",
            "Requirement already satisfied: fsspec in /usr/local/lib/python3.10/dist-packages (from torch>=1.7.0->ultralytics==8.0.0) (2023.6.0)\n",
            "Requirement already satisfied: triton==2.1.0 in /usr/local/lib/python3.10/dist-packages (from torch>=1.7.0->ultralytics==8.0.0) (2.1.0)\n",
            "Collecting jedi>=0.16 (from ipython->ultralytics==8.0.0)\n",
            "  Downloading jedi-0.19.1-py2.py3-none-any.whl (1.6 MB)\n",
            "\u001b[2K     \u001b[90m━━━━━━━━━━━━━━━━━━━━━━━━━━━━━━━━━━━━━━━━\u001b[0m \u001b[32m1.6/1.6 MB\u001b[0m \u001b[31m16.0 MB/s\u001b[0m eta \u001b[36m0:00:00\u001b[0m\n",
            "\u001b[?25hRequirement already satisfied: decorator in /usr/local/lib/python3.10/dist-packages (from ipython->ultralytics==8.0.0) (4.4.2)\n",
            "Requirement already satisfied: pickleshare in /usr/local/lib/python3.10/dist-packages (from ipython->ultralytics==8.0.0) (0.7.5)\n",
            "Requirement already satisfied: traitlets>=4.2 in /usr/local/lib/python3.10/dist-packages (from ipython->ultralytics==8.0.0) (5.7.1)\n",
            "Requirement already satisfied: prompt-toolkit!=3.0.0,!=3.0.1,<3.1.0,>=2.0.0 in /usr/local/lib/python3.10/dist-packages (from ipython->ultralytics==8.0.0) (3.0.41)\n",
            "Requirement already satisfied: pygments in /usr/local/lib/python3.10/dist-packages (from ipython->ultralytics==8.0.0) (2.16.1)\n",
            "Requirement already satisfied: backcall in /usr/local/lib/python3.10/dist-packages (from ipython->ultralytics==8.0.0) (0.2.0)\n",
            "Requirement already satisfied: matplotlib-inline in /usr/local/lib/python3.10/dist-packages (from ipython->ultralytics==8.0.0) (0.1.6)\n",
            "Requirement already satisfied: pexpect>4.3 in /usr/local/lib/python3.10/dist-packages (from ipython->ultralytics==8.0.0) (4.9.0)\n",
            "Collecting smmap<6,>=3.0.1 (from gitdb<5,>=4.0.1->GitPython>=3.1.24->ultralytics==8.0.0)\n",
            "  Downloading smmap-5.0.1-py3-none-any.whl (24 kB)\n",
            "Requirement already satisfied: cachetools<6.0,>=2.0.0 in /usr/local/lib/python3.10/dist-packages (from google-auth<3,>=1.6.3->tensorboard>=2.4.1->ultralytics==8.0.0) (5.3.2)\n",
            "Requirement already satisfied: pyasn1-modules>=0.2.1 in /usr/local/lib/python3.10/dist-packages (from google-auth<3,>=1.6.3->tensorboard>=2.4.1->ultralytics==8.0.0) (0.3.0)\n",
            "Requirement already satisfied: rsa<5,>=3.1.4 in /usr/local/lib/python3.10/dist-packages (from google-auth<3,>=1.6.3->tensorboard>=2.4.1->ultralytics==8.0.0) (4.9)\n",
            "Requirement already satisfied: requests-oauthlib>=0.7.0 in /usr/local/lib/python3.10/dist-packages (from google-auth-oauthlib<1.1,>=0.5->tensorboard>=2.4.1->ultralytics==8.0.0) (1.3.1)\n",
            "Requirement already satisfied: parso<0.9.0,>=0.8.3 in /usr/local/lib/python3.10/dist-packages (from jedi>=0.16->ipython->ultralytics==8.0.0) (0.8.3)\n",
            "Requirement already satisfied: ptyprocess>=0.5 in /usr/local/lib/python3.10/dist-packages (from pexpect>4.3->ipython->ultralytics==8.0.0) (0.7.0)\n",
            "Requirement already satisfied: wcwidth in /usr/local/lib/python3.10/dist-packages (from prompt-toolkit!=3.0.0,!=3.0.1,<3.1.0,>=2.0.0->ipython->ultralytics==8.0.0) (0.2.12)\n",
            "Requirement already satisfied: MarkupSafe>=2.1.1 in /usr/local/lib/python3.10/dist-packages (from werkzeug>=1.0.1->tensorboard>=2.4.1->ultralytics==8.0.0) (2.1.3)\n",
            "Requirement already satisfied: mpmath>=0.19 in /usr/local/lib/python3.10/dist-packages (from sympy->torch>=1.7.0->ultralytics==8.0.0) (1.3.0)\n",
            "Requirement already satisfied: pyasn1<0.6.0,>=0.4.6 in /usr/local/lib/python3.10/dist-packages (from pyasn1-modules>=0.2.1->google-auth<3,>=1.6.3->tensorboard>=2.4.1->ultralytics==8.0.0) (0.5.1)\n",
            "Requirement already satisfied: oauthlib>=3.0.0 in /usr/local/lib/python3.10/dist-packages (from requests-oauthlib>=0.7.0->google-auth-oauthlib<1.1,>=0.5->tensorboard>=2.4.1->ultralytics==8.0.0) (3.2.2)\n",
            "Building wheels for collected packages: antlr4-python3-runtime\n",
            "  Building wheel for antlr4-python3-runtime (setup.py) ... \u001b[?25l\u001b[?25hdone\n",
            "  Created wheel for antlr4-python3-runtime: filename=antlr4_python3_runtime-4.9.3-py3-none-any.whl size=144554 sha256=68d0841b8b14c0f2adf55e5216b7b504e6fcc49908e3b2068a870f0a82fe29e3\n",
            "  Stored in directory: /root/.cache/pip/wheels/12/93/dd/1f6a127edc45659556564c5730f6d4e300888f4bca2d4c5a88\n",
            "Successfully built antlr4-python3-runtime\n",
            "Installing collected packages: antlr4-python3-runtime, smmap, omegaconf, jedi, hydra-core, gitdb, thop, GitPython, ultralytics\n",
            "Successfully installed GitPython-3.1.40 antlr4-python3-runtime-4.9.3 gitdb-4.0.11 hydra-core-1.3.2 jedi-0.19.1 omegaconf-2.3.0 smmap-5.0.1 thop-0.1.1.post2209072238 ultralytics-8.0.0\n"
          ]
        },
        {
          "output_type": "display_data",
          "data": {
            "application/vnd.colab-display-data+json": {
              "pip_warning": {
                "packages": [
                  "pydevd_plugins"
                ]
              }
            }
          },
          "metadata": {}
        }
      ]
    },
    {
      "cell_type": "code",
      "source": [
        "import ultralytics"
      ],
      "metadata": {
        "id": "HeflbdMcClWQ"
      },
      "execution_count": 13,
      "outputs": []
    },
    {
      "cell_type": "code",
      "source": [
        "!pwd"
      ],
      "metadata": {
        "colab": {
          "base_uri": "https://localhost:8080/"
        },
        "id": "Qw-XBcHgCto-",
        "outputId": "5d4164df-9f7d-4e4e-f535-2816eaf383ec"
      },
      "execution_count": 15,
      "outputs": [
        {
          "output_type": "stream",
          "name": "stdout",
          "text": [
            "/content\n"
          ]
        }
      ]
    },
    {
      "cell_type": "code",
      "source": [
        "%cd {HOME}\\datasets"
      ],
      "metadata": {
        "colab": {
          "base_uri": "https://localhost:8080/"
        },
        "id": "H021SoHhC5Pw",
        "outputId": "c6f1f937-07e0-472f-a451-004b7c2fc349"
      },
      "execution_count": 16,
      "outputs": [
        {
          "output_type": "stream",
          "name": "stdout",
          "text": [
            "[Errno 2] No such file or directory: '/contentdatasets'\n",
            "/content\n"
          ]
        }
      ]
    },
    {
      "cell_type": "code",
      "source": [
        "%cd {HOME}\\datasets"
      ],
      "metadata": {
        "colab": {
          "base_uri": "https://localhost:8080/"
        },
        "id": "PfVySzucC_uu",
        "outputId": "00c03459-0fff-4544-d151-9fbbce04aea6"
      },
      "execution_count": 17,
      "outputs": [
        {
          "output_type": "stream",
          "name": "stdout",
          "text": [
            "[Errno 2] No such file or directory: '/contentdatasets'\n",
            "/content\n"
          ]
        }
      ]
    },
    {
      "cell_type": "code",
      "source": [
        "%cd datasets"
      ],
      "metadata": {
        "colab": {
          "base_uri": "https://localhost:8080/"
        },
        "id": "Cnoy0XutDFDu",
        "outputId": "d72ed558-14f8-44ce-ef4f-65a4e4b7ac07"
      },
      "execution_count": 18,
      "outputs": [
        {
          "output_type": "stream",
          "name": "stdout",
          "text": [
            "/content/datasets\n"
          ]
        }
      ]
    },
    {
      "cell_type": "code",
      "source": [
        "%cd {dataset.location}"
      ],
      "metadata": {
        "colab": {
          "base_uri": "https://localhost:8080/"
        },
        "id": "S-x4se4lDIYd",
        "outputId": "c78d17e4-56a8-49ff-fd7f-badcc1615974"
      },
      "execution_count": 20,
      "outputs": [
        {
          "output_type": "stream",
          "name": "stdout",
          "text": [
            "[Errno 2] No such file or directory: '/content/dut-capstone-project-seg-19'\n",
            "/content/datasets\n"
          ]
        }
      ]
    },
    {
      "cell_type": "code",
      "source": [
        "!yolo task=detect mode=train model=yolov8m.pt data=/content/datasets/data.yaml epochs=30 imgsz=640"
      ],
      "metadata": {
        "colab": {
          "base_uri": "https://localhost:8080/"
        },
        "id": "AgSrOIqSDxqO",
        "outputId": "d8c1a751-fb0a-45bb-9a19-60472ba4b487"
      },
      "execution_count": 28,
      "outputs": [
        {
          "output_type": "stream",
          "name": "stdout",
          "text": [
            "\u001b[34m\u001b[1myolo/engine/trainer: \u001b[0mtask=detect, mode=train, model=yolov8m.pt, data=/content/datasets/data.yaml, epochs=30, patience=50, batch=16, imgsz=640, save=True, cache=False, device=None, workers=8, project=None, name=None, exist_ok=False, pretrained=False, optimizer=SGD, verbose=False, seed=0, deterministic=True, single_cls=False, image_weights=False, rect=False, cos_lr=False, close_mosaic=10, resume=False, overlap_mask=True, mask_ratio=4, dropout=0.0, val=True, save_json=False, save_hybrid=False, conf=None, iou=0.7, max_det=300, half=False, dnn=False, plots=True, source=None, show=False, save_txt=False, save_conf=False, save_crop=False, hide_labels=False, hide_conf=False, vid_stride=1, line_thickness=3, visualize=False, augment=False, agnostic_nms=False, retina_masks=False, format=torchscript, keras=False, optimize=False, int8=False, dynamic=False, simplify=False, opset=17, workspace=4, nms=False, lr0=0.01, lrf=0.01, momentum=0.937, weight_decay=0.0005, warmup_epochs=3.0, warmup_momentum=0.8, warmup_bias_lr=0.1, box=7.5, cls=0.5, dfl=1.5, fl_gamma=0.0, label_smoothing=0.0, nbs=64, hsv_h=0.015, hsv_s=0.7, hsv_v=0.4, degrees=0.0, translate=0.1, scale=0.5, shear=0.0, perspective=0.0, flipud=0.0, fliplr=0.5, mosaic=1.0, mixup=0.0, copy_paste=0.0, hydra={'output_subdir': None, 'run': {'dir': '.'}}, v5loader=False, save_dir=runs/detect/train6\n",
            "Ultralytics YOLOv8.0.0 🚀 Python-3.10.12 torch-2.1.0+cu118 CUDA:0 (Tesla T4, 15102MiB)\n",
            "2023-12-14 12:02:39.670549: E tensorflow/compiler/xla/stream_executor/cuda/cuda_dnn.cc:9342] Unable to register cuDNN factory: Attempting to register factory for plugin cuDNN when one has already been registered\n",
            "2023-12-14 12:02:39.670631: E tensorflow/compiler/xla/stream_executor/cuda/cuda_fft.cc:609] Unable to register cuFFT factory: Attempting to register factory for plugin cuFFT when one has already been registered\n",
            "2023-12-14 12:02:39.670682: E tensorflow/compiler/xla/stream_executor/cuda/cuda_blas.cc:1518] Unable to register cuBLAS factory: Attempting to register factory for plugin cuBLAS when one has already been registered\n",
            "2023-12-14 12:02:41.143594: W tensorflow/compiler/tf2tensorrt/utils/py_utils.cc:38] TF-TRT Warning: Could not find TensorRT\n",
            "Overriding model.yaml nc=80 with nc=4\n",
            "\n",
            "                   from  n    params  module                                       arguments                     \n",
            "  0                  -1  1      1392  ultralytics.nn.modules.Conv                  [3, 48, 3, 2]                 \n",
            "  1                  -1  1     41664  ultralytics.nn.modules.Conv                  [48, 96, 3, 2]                \n",
            "  2                  -1  2    111360  ultralytics.nn.modules.C2f                   [96, 96, 2, True]             \n",
            "  3                  -1  1    166272  ultralytics.nn.modules.Conv                  [96, 192, 3, 2]               \n",
            "  4                  -1  4    813312  ultralytics.nn.modules.C2f                   [192, 192, 4, True]           \n",
            "  5                  -1  1    664320  ultralytics.nn.modules.Conv                  [192, 384, 3, 2]              \n",
            "  6                  -1  4   3248640  ultralytics.nn.modules.C2f                   [384, 384, 4, True]           \n",
            "  7                  -1  1   1991808  ultralytics.nn.modules.Conv                  [384, 576, 3, 2]              \n",
            "  8                  -1  2   3985920  ultralytics.nn.modules.C2f                   [576, 576, 2, True]           \n",
            "  9                  -1  1    831168  ultralytics.nn.modules.SPPF                  [576, 576, 5]                 \n",
            " 10                  -1  1         0  torch.nn.modules.upsampling.Upsample         [None, 2, 'nearest']          \n",
            " 11             [-1, 6]  1         0  ultralytics.nn.modules.Concat                [1]                           \n",
            " 12                  -1  2   1993728  ultralytics.nn.modules.C2f                   [960, 384, 2]                 \n",
            " 13                  -1  1         0  torch.nn.modules.upsampling.Upsample         [None, 2, 'nearest']          \n",
            " 14             [-1, 4]  1         0  ultralytics.nn.modules.Concat                [1]                           \n",
            " 15                  -1  2    517632  ultralytics.nn.modules.C2f                   [576, 192, 2]                 \n",
            " 16                  -1  1    332160  ultralytics.nn.modules.Conv                  [192, 192, 3, 2]              \n",
            " 17            [-1, 12]  1         0  ultralytics.nn.modules.Concat                [1]                           \n",
            " 18                  -1  2   1846272  ultralytics.nn.modules.C2f                   [576, 384, 2]                 \n",
            " 19                  -1  1   1327872  ultralytics.nn.modules.Conv                  [384, 384, 3, 2]              \n",
            " 20             [-1, 9]  1         0  ultralytics.nn.modules.Concat                [1]                           \n",
            " 21                  -1  2   4207104  ultralytics.nn.modules.C2f                   [960, 576, 2]                 \n",
            " 22        [15, 18, 21]  1   3778012  ultralytics.nn.modules.Detect                [4, [192, 384, 576]]          \n",
            "Model summary: 295 layers, 25858636 parameters, 25858620 gradients, 79.1 GFLOPs\n",
            "\n",
            "Transferred 475/475 items from pretrained weights\n",
            "\u001b[34m\u001b[1moptimizer:\u001b[0m SGD(lr=0.01) with parameter groups 77 weight(decay=0.0), 84 weight(decay=0.0005), 83 bias\n",
            "\u001b[34m\u001b[1mtrain: \u001b[0mScanning /content/datasets/train/labels.cache... 2614 images, 10 backgrounds, 0 corrupt: 100% 2614/2614 [00:00<?, ?it/s]\n",
            "\u001b[34m\u001b[1malbumentations: \u001b[0mBlur(p=0.01, blur_limit=(3, 7)), MedianBlur(p=0.01, blur_limit=(3, 7)), ToGray(p=0.01), CLAHE(p=0.01, clip_limit=(1, 4.0), tile_grid_size=(8, 8))\n",
            "\u001b[34m\u001b[1mval: \u001b[0mScanning /content/datasets/train/labels.cache... 2614 images, 10 backgrounds, 0 corrupt: 100% 2614/2614 [00:00<?, ?it/s]\n",
            "Image sizes 640 train, 640 val\n",
            "Using 2 dataloader workers\n",
            "Logging results to \u001b[1mruns/detect/train6\u001b[0m\n",
            "Starting training for 30 epochs...\n",
            "\n",
            "      Epoch    GPU_mem   box_loss   cls_loss   dfl_loss  Instances       Size\n",
            "       1/30      7.51G      3.907      5.332      4.189         12        640: 100% 164/164 [02:13<00:00,  1.23it/s]\n",
            "                 Class     Images  Instances      Box(P          R      mAP50  mAP50-95): 100% 82/82 [00:47<00:00,  1.73it/s]\n",
            "                   all       2614       3682     0.0034    0.00172   0.000425   0.000135\n",
            "\n",
            "      Epoch    GPU_mem   box_loss   cls_loss   dfl_loss  Instances       Size\n",
            "       2/30      9.52G      3.924      4.804      4.038         19        640: 100% 164/164 [02:09<00:00,  1.26it/s]\n",
            "                 Class     Images  Instances      Box(P          R      mAP50  mAP50-95): 100% 82/82 [00:44<00:00,  1.83it/s]\n",
            "                   all       2614       3682      0.503    0.00509   0.000881   0.000278\n",
            "\n",
            "      Epoch    GPU_mem   box_loss   cls_loss   dfl_loss  Instances       Size\n",
            "       3/30      9.52G      3.805      4.247       3.63         11        640: 100% 164/164 [02:06<00:00,  1.30it/s]\n",
            "                 Class     Images  Instances      Box(P          R      mAP50  mAP50-95): 100% 82/82 [00:49<00:00,  1.66it/s]\n",
            "                   all       2614       3682    0.00121     0.0116   0.000904   0.000246\n",
            "\n",
            "      Epoch    GPU_mem   box_loss   cls_loss   dfl_loss  Instances       Size\n",
            "       4/30      9.53G       3.24      3.625      2.989         14        640: 100% 164/164 [02:07<00:00,  1.28it/s]\n",
            "                 Class     Images  Instances      Box(P          R      mAP50  mAP50-95): 100% 82/82 [00:48<00:00,  1.69it/s]\n",
            "                   all       2614       3682      0.362      0.162     0.0673      0.021\n",
            "\n",
            "      Epoch    GPU_mem   box_loss   cls_loss   dfl_loss  Instances       Size\n",
            "       5/30      9.53G      2.916       3.14       2.59         15        640: 100% 164/164 [02:07<00:00,  1.29it/s]\n",
            "                 Class     Images  Instances      Box(P          R      mAP50  mAP50-95): 100% 82/82 [00:48<00:00,  1.68it/s]\n",
            "                   all       2614       3682      0.234      0.217      0.139     0.0483\n",
            "\n",
            "      Epoch    GPU_mem   box_loss   cls_loss   dfl_loss  Instances       Size\n",
            "       6/30      9.53G       2.61      2.699      2.287         13        640: 100% 164/164 [02:07<00:00,  1.29it/s]\n",
            "                 Class     Images  Instances      Box(P          R      mAP50  mAP50-95): 100% 82/82 [00:47<00:00,  1.73it/s]\n",
            "                   all       2614       3682      0.293      0.303      0.206     0.0764\n",
            "\n",
            "      Epoch    GPU_mem   box_loss   cls_loss   dfl_loss  Instances       Size\n",
            "       7/30      9.53G      2.395      2.414      2.109         17        640: 100% 164/164 [02:09<00:00,  1.27it/s]\n",
            "                 Class     Images  Instances      Box(P          R      mAP50  mAP50-95): 100% 82/82 [00:49<00:00,  1.66it/s]\n",
            "                   all       2614       3682      0.389      0.342      0.345      0.158\n",
            "\n",
            "      Epoch    GPU_mem   box_loss   cls_loss   dfl_loss  Instances       Size\n",
            "       8/30      9.53G       2.19      2.194      1.961          9        640: 100% 164/164 [02:07<00:00,  1.28it/s]\n",
            "                 Class     Images  Instances      Box(P          R      mAP50  mAP50-95): 100% 82/82 [00:49<00:00,  1.66it/s]\n",
            "                   all       2614       3682      0.492      0.368      0.385      0.185\n",
            "\n",
            "      Epoch    GPU_mem   box_loss   cls_loss   dfl_loss  Instances       Size\n",
            "       9/30      9.53G       2.09      2.069       1.87         20        640: 100% 164/164 [02:09<00:00,  1.26it/s]\n",
            "                 Class     Images  Instances      Box(P          R      mAP50  mAP50-95): 100% 82/82 [00:48<00:00,  1.69it/s]\n",
            "                   all       2614       3682      0.453      0.389      0.408       0.19\n",
            "\n",
            "      Epoch    GPU_mem   box_loss   cls_loss   dfl_loss  Instances       Size\n",
            "      10/30      9.53G      1.993      1.966      1.833         14        640: 100% 164/164 [02:07<00:00,  1.29it/s]\n",
            "                 Class     Images  Instances      Box(P          R      mAP50  mAP50-95): 100% 82/82 [00:48<00:00,  1.69it/s]\n",
            "                   all       2614       3682      0.486      0.477       0.49      0.258\n",
            "\n",
            "      Epoch    GPU_mem   box_loss   cls_loss   dfl_loss  Instances       Size\n",
            "      11/30      9.53G      1.922      1.859      1.765         16        640: 100% 164/164 [02:07<00:00,  1.29it/s]\n",
            "                 Class     Images  Instances      Box(P          R      mAP50  mAP50-95): 100% 82/82 [00:48<00:00,  1.69it/s]\n",
            "                   all       2614       3682      0.536      0.451      0.475      0.246\n",
            "\n",
            "      Epoch    GPU_mem   box_loss   cls_loss   dfl_loss  Instances       Size\n",
            "      12/30      9.53G      1.837       1.77      1.696          7        640: 100% 164/164 [02:07<00:00,  1.29it/s]\n",
            "                 Class     Images  Instances      Box(P          R      mAP50  mAP50-95): 100% 82/82 [00:50<00:00,  1.62it/s]\n",
            "                   all       2614       3682      0.531      0.515      0.511      0.278\n",
            "\n",
            "      Epoch    GPU_mem   box_loss   cls_loss   dfl_loss  Instances       Size\n",
            "      13/30      9.53G      1.775      1.663      1.656         21        640: 100% 164/164 [02:07<00:00,  1.29it/s]\n",
            "                 Class     Images  Instances      Box(P          R      mAP50  mAP50-95): 100% 82/82 [00:50<00:00,  1.64it/s]\n",
            "                   all       2614       3682      0.518      0.552      0.533      0.284\n",
            "\n",
            "      Epoch    GPU_mem   box_loss   cls_loss   dfl_loss  Instances       Size\n",
            "      14/30      9.53G      1.718      1.605      1.623         12        640: 100% 164/164 [02:07<00:00,  1.29it/s]\n",
            "                 Class     Images  Instances      Box(P          R      mAP50  mAP50-95): 100% 82/82 [00:48<00:00,  1.69it/s]\n",
            "                   all       2614       3682      0.574      0.536      0.526      0.271\n",
            "\n",
            "      Epoch    GPU_mem   box_loss   cls_loss   dfl_loss  Instances       Size\n",
            "      15/30      9.53G      1.673      1.538      1.596         10        640: 100% 164/164 [02:07<00:00,  1.28it/s]\n",
            "                 Class     Images  Instances      Box(P          R      mAP50  mAP50-95): 100% 82/82 [00:49<00:00,  1.67it/s]\n",
            "                   all       2614       3682      0.634      0.585      0.606      0.329\n",
            "\n",
            "      Epoch    GPU_mem   box_loss   cls_loss   dfl_loss  Instances       Size\n",
            "      16/30      9.53G      1.651      1.509      1.574         24        640: 100% 164/164 [02:10<00:00,  1.25it/s]\n",
            "                 Class     Images  Instances      Box(P          R      mAP50  mAP50-95): 100% 82/82 [00:49<00:00,  1.66it/s]\n",
            "                   all       2614       3682      0.624      0.569      0.588      0.336\n",
            "\n",
            "      Epoch    GPU_mem   box_loss   cls_loss   dfl_loss  Instances       Size\n",
            "      17/30      9.53G      1.595      1.432      1.539         17        640: 100% 164/164 [02:07<00:00,  1.29it/s]\n",
            "                 Class     Images  Instances      Box(P          R      mAP50  mAP50-95): 100% 82/82 [00:48<00:00,  1.68it/s]\n",
            "                   all       2614       3682      0.664      0.618      0.638      0.361\n",
            "\n",
            "      Epoch    GPU_mem   box_loss   cls_loss   dfl_loss  Instances       Size\n",
            "      18/30      9.53G      1.555      1.391      1.499          9        640: 100% 164/164 [02:07<00:00,  1.29it/s]\n",
            "                 Class     Images  Instances      Box(P          R      mAP50  mAP50-95): 100% 82/82 [00:48<00:00,  1.68it/s]\n",
            "                   all       2614       3682      0.674      0.657      0.675      0.381\n",
            "\n",
            "      Epoch    GPU_mem   box_loss   cls_loss   dfl_loss  Instances       Size\n",
            "      19/30      9.53G      1.546      1.351      1.496         19        640: 100% 164/164 [02:05<00:00,  1.31it/s]\n",
            "                 Class     Images  Instances      Box(P          R      mAP50  mAP50-95): 100% 82/82 [00:51<00:00,  1.60it/s]\n",
            "                   all       2614       3682      0.728      0.616      0.671       0.38\n",
            "\n",
            "      Epoch    GPU_mem   box_loss   cls_loss   dfl_loss  Instances       Size\n",
            "      20/30      9.53G      1.511      1.328      1.481         14        640: 100% 164/164 [02:06<00:00,  1.30it/s]\n",
            "                 Class     Images  Instances      Box(P          R      mAP50  mAP50-95): 100% 82/82 [00:50<00:00,  1.63it/s]\n",
            "                   all       2614       3682      0.732      0.662      0.719      0.398\n",
            "Closing dataloader mosaic\n",
            "\u001b[34m\u001b[1malbumentations: \u001b[0mBlur(p=0.01, blur_limit=(3, 7)), MedianBlur(p=0.01, blur_limit=(3, 7)), ToGray(p=0.01), CLAHE(p=0.01, clip_limit=(1, 4.0), tile_grid_size=(8, 8))\n",
            "\n",
            "      Epoch    GPU_mem   box_loss   cls_loss   dfl_loss  Instances       Size\n",
            "      21/30      9.53G      1.589      1.278      1.427          8        640: 100% 164/164 [01:25<00:00,  1.92it/s]\n",
            "                 Class     Images  Instances      Box(P          R      mAP50  mAP50-95): 100% 82/82 [00:49<00:00,  1.66it/s]\n",
            "                   all       2614       3682      0.652      0.573      0.601      0.312\n",
            "\n",
            "      Epoch    GPU_mem   box_loss   cls_loss   dfl_loss  Instances       Size\n",
            "      22/30      9.53G      1.565      1.226      1.396          6        640: 100% 164/164 [01:24<00:00,  1.94it/s]\n",
            "                 Class     Images  Instances      Box(P          R      mAP50  mAP50-95): 100% 82/82 [00:49<00:00,  1.67it/s]\n",
            "                   all       2614       3682      0.765      0.677      0.757      0.433\n",
            "\n",
            "      Epoch    GPU_mem   box_loss   cls_loss   dfl_loss  Instances       Size\n",
            "      23/30      9.53G      1.502      1.181      1.396          7        640: 100% 164/164 [01:22<00:00,  1.98it/s]\n",
            "                 Class     Images  Instances      Box(P          R      mAP50  mAP50-95): 100% 82/82 [00:48<00:00,  1.69it/s]\n",
            "                   all       2614       3682      0.794      0.697      0.772       0.46\n",
            "\n",
            "      Epoch    GPU_mem   box_loss   cls_loss   dfl_loss  Instances       Size\n",
            "      24/30      9.53G       1.49      1.138      1.354          7        640: 100% 164/164 [01:23<00:00,  1.96it/s]\n",
            "                 Class     Images  Instances      Box(P          R      mAP50  mAP50-95): 100% 82/82 [00:47<00:00,  1.71it/s]\n",
            "                   all       2614       3682      0.776      0.656       0.73       0.42\n",
            "\n",
            "      Epoch    GPU_mem   box_loss   cls_loss   dfl_loss  Instances       Size\n",
            "      25/30      9.53G      1.484      1.114      1.362          6        640: 100% 164/164 [01:23<00:00,  1.97it/s]\n",
            "                 Class     Images  Instances      Box(P          R      mAP50  mAP50-95): 100% 82/82 [00:48<00:00,  1.68it/s]\n",
            "                   all       2614       3682      0.775       0.71      0.786      0.469\n",
            "\n",
            "      Epoch    GPU_mem   box_loss   cls_loss   dfl_loss  Instances       Size\n",
            "      26/30      9.53G      1.428       1.07      1.336          6        640: 100% 164/164 [01:23<00:00,  1.96it/s]\n",
            "                 Class     Images  Instances      Box(P          R      mAP50  mAP50-95): 100% 82/82 [00:48<00:00,  1.70it/s]\n",
            "                   all       2614       3682      0.801      0.746      0.809      0.487\n",
            "\n",
            "      Epoch    GPU_mem   box_loss   cls_loss   dfl_loss  Instances       Size\n",
            "      27/30      9.53G      1.421      1.051      1.325          6        640: 100% 164/164 [01:22<00:00,  1.98it/s]\n",
            "                 Class     Images  Instances      Box(P          R      mAP50  mAP50-95): 100% 82/82 [00:48<00:00,  1.69it/s]\n",
            "                   all       2614       3682      0.843      0.764      0.839      0.509\n",
            "\n",
            "      Epoch    GPU_mem   box_loss   cls_loss   dfl_loss  Instances       Size\n",
            "      28/30      9.53G      1.386      1.009      1.292          6        640: 100% 164/164 [01:23<00:00,  1.97it/s]\n",
            "                 Class     Images  Instances      Box(P          R      mAP50  mAP50-95): 100% 82/82 [00:49<00:00,  1.64it/s]\n",
            "                   all       2614       3682      0.843      0.764      0.839      0.512\n",
            "\n",
            "      Epoch    GPU_mem   box_loss   cls_loss   dfl_loss  Instances       Size\n",
            "      29/30      9.53G      1.365     0.9718      1.268          7        640: 100% 164/164 [01:23<00:00,  1.97it/s]\n",
            "                 Class     Images  Instances      Box(P          R      mAP50  mAP50-95): 100% 82/82 [00:48<00:00,  1.69it/s]\n",
            "                   all       2614       3682      0.847      0.768      0.847      0.526\n",
            "\n",
            "      Epoch    GPU_mem   box_loss   cls_loss   dfl_loss  Instances       Size\n",
            "      30/30      9.53G       1.32     0.9519      1.262          6        640: 100% 164/164 [01:23<00:00,  1.97it/s]\n",
            "                 Class     Images  Instances      Box(P          R      mAP50  mAP50-95): 100% 82/82 [00:55<00:00,  1.49it/s]\n",
            "                   all       2614       3682      0.852       0.79      0.862      0.539\n",
            "\n",
            "30 epochs completed in 1.396 hours.\n",
            "Optimizer stripped from runs/detect/train6/weights/last.pt, 52.1MB\n",
            "Optimizer stripped from runs/detect/train6/weights/best.pt, 52.1MB\n",
            "\n",
            "Validating runs/detect/train6/weights/best.pt...\n",
            "Ultralytics YOLOv8.0.0 🚀 Python-3.10.12 torch-2.1.0+cu118 CUDA:0 (Tesla T4, 15102MiB)\n",
            "Fusing layers... \n",
            "Model summary: 218 layers, 25842076 parameters, 0 gradients, 78.7 GFLOPs\n",
            "                 Class     Images  Instances      Box(P          R      mAP50  mAP50-95): 100% 82/82 [00:54<00:00,  1.51it/s]\n",
            "                   all       2614       3682      0.852      0.789      0.862      0.539\n",
            "                  Hole       2614       1065      0.907      0.889      0.934      0.729\n",
            "                  Knot       2614        820      0.872      0.724      0.829      0.476\n",
            "                  Line       2614        814      0.766      0.727      0.802      0.305\n",
            "                 Stain       2614        983      0.863      0.815      0.881      0.646\n",
            "Speed: 0.2ms pre-process, 9.4ms inference, 0.0ms loss, 1.8ms post-process per image\n",
            "Saving runs/detect/train6/predictions.json...\n",
            "Results saved to \u001b[1mruns/detect/train6\u001b[0m\n"
          ]
        }
      ]
    },
    {
      "cell_type": "code",
      "source": [
        "!yolo task=detect mode=predict model=/content/datasets/runs/detect/train6/weights/best.pt conf=0.25 source='/content/datasets/test/images'"
      ],
      "metadata": {
        "colab": {
          "base_uri": "https://localhost:8080/"
        },
        "id": "cdYxz9uKEQVu",
        "outputId": "400c06a2-9edc-4c12-882d-c76618850663"
      },
      "execution_count": 29,
      "outputs": [
        {
          "output_type": "stream",
          "name": "stdout",
          "text": [
            "2023-12-14 13:30:03.462229: E tensorflow/compiler/xla/stream_executor/cuda/cuda_dnn.cc:9342] Unable to register cuDNN factory: Attempting to register factory for plugin cuDNN when one has already been registered\n",
            "2023-12-14 13:30:03.462308: E tensorflow/compiler/xla/stream_executor/cuda/cuda_fft.cc:609] Unable to register cuFFT factory: Attempting to register factory for plugin cuFFT when one has already been registered\n",
            "2023-12-14 13:30:03.462357: E tensorflow/compiler/xla/stream_executor/cuda/cuda_blas.cc:1518] Unable to register cuBLAS factory: Attempting to register factory for plugin cuBLAS when one has already been registered\n",
            "2023-12-14 13:30:04.798686: W tensorflow/compiler/tf2tensorrt/utils/py_utils.cc:38] TF-TRT Warning: Could not find TensorRT\n",
            "Ultralytics YOLOv8.0.0 🚀 Python-3.10.12 torch-2.1.0+cu118 CUDA:0 (Tesla T4, 15102MiB)\n",
            "Fusing layers... \n",
            "Model summary: 218 layers, 25842076 parameters, 0 gradients, 78.7 GFLOPs\n",
            "image 1/47 /content/datasets/test/images/022-Copy_jpg.rf.6a7a63ac2729ac1fdea3d8b3bef6c56c.jpg: 640x640 1 Hole, 36.9ms\n",
            "image 2/47 /content/datasets/test/images/050_jpg.rf.ad4f12ba86ec13586dbd2bd8702848be.jpg: 640x640 1 Stain, 37.1ms\n",
            "image 3/47 /content/datasets/test/images/050_jpg.rf.ffe25c9d7a1a3e76dbd8325f7f98170c.jpg: 640x640 1 Hole, 1 Stain, 36.6ms\n",
            "image 4/47 /content/datasets/test/images/086f77cfa97945ce1046254765_jpg.rf.d26613d52d33e70ad68f82305106afd8.jpg: 640x640 28.2ms\n",
            "image 5/47 /content/datasets/test/images/1_jpg.rf.679a9bf2639a1c49f0980c0edd10d131.jpg: 640x640 1 Stain, 28.2ms\n",
            "image 6/47 /content/datasets/test/images/2_jpg.rf.cb9822a4d6a5d15b7282af3185f8a7ae.jpg: 640x640 1 Hole, 1 Knot, 3 Lines, 28.2ms\n",
            "image 7/47 /content/datasets/test/images/50abcc36fa3c69751507233251_jpg.rf.4e2f481335cbd008a743afc7b53f0802.jpg: 640x640 2 Lines, 27.6ms\n",
            "image 8/47 /content/datasets/test/images/50abcc36fa3c69751507233251_jpg.rf.d09dcdbe08ace66ff7819757872ce054.jpg: 640x640 2 Lines, 21.5ms\n",
            "image 9/47 /content/datasets/test/images/51_jpg.rf.89abd754dd2b25375d15c7865a23baee.jpg: 640x640 1 Stain, 21.5ms\n",
            "image 10/47 /content/datasets/test/images/52_jpeg.rf.787e88104bc39608c86df1a2a2092b6e.jpg: 640x640 1 Stain, 21.2ms\n",
            "image 11/47 /content/datasets/test/images/53_jpeg.rf.721d200a9487e78284f9716e793603cd.jpg: 640x640 1 Stain, 21.2ms\n",
            "image 12/47 /content/datasets/test/images/53_jpg.rf.db48ef424e826daabc8fccbd15819da5.jpg: 640x640 3 Stains, 20.9ms\n",
            "image 13/47 /content/datasets/test/images/53f029169c7a55970806098854_jpg.rf.462278324b179e2712a636277d04356c.jpg: 640x640 1 Knot, 17.6ms\n",
            "image 14/47 /content/datasets/test/images/54_jpeg.rf.dcf8898a69754a64f945462276049640.jpg: 640x640 1 Stain, 17.4ms\n",
            "image 15/47 /content/datasets/test/images/54_jpg.rf.dfc4abf00fdb9369649e380e6340e1b6.jpg: 640x640 1 Stain, 17.8ms\n",
            "image 16/47 /content/datasets/test/images/54cde77a9121b2741532176052_jpg.rf.6073daf6cf615cb95e3338621aad4b9f.jpg: 640x640 1 Knot, 18.0ms\n",
            "image 17/47 /content/datasets/test/images/54d1c13a487c11850824327985_jpg.rf.f3cdbb01e48d5bf5177a521c019ad46c.jpg: 640x640 1 Knot, 1 Stain, 17.4ms\n",
            "image 18/47 /content/datasets/test/images/57_jpeg.rf.45bc8f67a3c38dbb685ea9748f6b1208.jpg: 640x640 1 Stain, 17.0ms\n",
            "image 19/47 /content/datasets/test/images/58_jpeg.rf.0e25e68d2ad2243de2e2fd3620aaf7b2.jpg: 640x640 2 Stains, 17.5ms\n",
            "image 20/47 /content/datasets/test/images/59b38d88326bd7c81350264461_jpg.rf.a460c3f62fc602935cdea76af77c3193.jpg: 640x640 18.5ms\n",
            "image 21/47 /content/datasets/test/images/59b38d88326bd7c81350264461_jpg.rf.a96e25ef1bd4545deb6f27f028a5269f.jpg: 640x640 1 Line, 17.6ms\n",
            "image 22/47 /content/datasets/test/images/61f7eed8103d4aa71611180204_jpg.rf.ffe3f08896176db14e47d530a031ae09.jpg: 640x640 2 Knots, 17.0ms\n",
            "image 23/47 /content/datasets/test/images/62_jpeg.rf.53ce536ed26af2760fd6978e8a3bda59.jpg: 640x640 1 Stain, 16.8ms\n",
            "image 24/47 /content/datasets/test/images/64_jpeg.rf.8f41b3db5d086529e2d755f16512c410.jpg: 640x640 1 Stain, 17.5ms\n",
            "image 25/47 /content/datasets/test/images/64beff8ea893f0881236552005_jpg.rf.fa31bfd618b033ba94776a18c4907741.jpg: 640x640 3 Knots, 18.0ms\n",
            "image 26/47 /content/datasets/test/images/65c76512a489dd2c1453007434_jpg.rf.7160817921aa39be43582bff7307dcd0.jpg: 640x640 1 Knot, 18.2ms\n",
            "image 27/47 /content/datasets/test/images/70d69d69633694d10954366974_jpg.rf.84e8d839b77214cd8e38a8785b925062.jpg: 640x640 1 Knot, 17.4ms\n",
            "image 28/47 /content/datasets/test/images/73_jpg.rf.fd48e155ee180d4b67fe1f01c2b0df42.jpg: 640x640 1 Stain, 17.0ms\n",
            "image 29/47 /content/datasets/test/images/73abf1519aa124f21313289814_jpg.rf.aebc8e24bedd16b5b760fcff559db04f.jpg: 640x640 2 Knots, 17.1ms\n",
            "image 30/47 /content/datasets/test/images/73b28a6959c49b861458036133_jpg.rf.466fe3c94a6dc1192c94640836dce391.jpg: 640x640 3 Knots, 17.3ms\n",
            "image 31/47 /content/datasets/test/images/74_jpeg.rf.798aa6a7ad06dbe9ccf2dd041e7c8c68.jpg: 640x640 1 Line, 1 Stain, 17.9ms\n",
            "image 32/47 /content/datasets/test/images/74_jpg.rf.9c1e43f76fcb32964d5bc4e82aac6ed8.jpg: 640x640 1 Stain, 17.6ms\n",
            "image 33/47 /content/datasets/test/images/75_jpeg.rf.371de1c6279df6f9fbc6baf3a2676828.jpg: 640x640 1 Stain, 17.4ms\n",
            "image 34/47 /content/datasets/test/images/78_jpg.rf.bc3818a9155897dab16e88e855c33ce1.jpg: 640x640 11 Stains, 17.2ms\n",
            "image 35/47 /content/datasets/test/images/79_jpeg.rf.0f323c0e47906931a782f0cf5eb02a9f.jpg: 640x640 1 Stain, 17.0ms\n",
            "image 36/47 /content/datasets/test/images/79_jpg.rf.784b62f7f94b0c78f687b618555d89bd.jpg: 640x640 7 Stains, 17.0ms\n",
            "image 37/47 /content/datasets/test/images/80_jpg.rf.0877f048770f8a0282915b7e0d93252a.jpg: 640x640 8 Stains, 17.5ms\n",
            "image 38/47 /content/datasets/test/images/80b692f90ee124741035447372_jpg.rf.320762b401d76d818c77a02336816d88.jpg: 640x640 3 Stains, 17.6ms\n",
            "image 39/47 /content/datasets/test/images/81_jpeg.rf.806535ba9165587e2cebc1c91e3b3b4d.jpg: 640x640 1 Stain, 18.4ms\n",
            "image 40/47 /content/datasets/test/images/81_jpg.rf.08551a79649869efb321ed798a26e3a0.jpg: 640x640 4 Stains, 17.5ms\n",
            "image 41/47 /content/datasets/test/images/82_jpg.rf.c671100c19cb59e270266ef354ece682.jpg: 640x640 4 Stains, 17.0ms\n",
            "image 42/47 /content/datasets/test/images/83_jpg.rf.9633424335e07f9ed99b961fbeab99ee.jpg: 640x640 2 Stains, 17.2ms\n",
            "image 43/47 /content/datasets/test/images/84_jpg.rf.50410955446682c7c3a973983635e0d6.jpg: 640x640 2 Stains, 17.7ms\n",
            "image 44/47 /content/datasets/test/images/85_jpg.rf.d6799942d864c0374b6a7fd6430e4975.jpg: 640x640 2 Stains, 17.7ms\n",
            "image 45/47 /content/datasets/test/images/86_jpg.rf.a4feef1ad743972eaf72f28e9e75c3ec.jpg: 640x640 3 Stains, 17.0ms\n",
            "image 46/47 /content/datasets/test/images/87_jpeg.rf.fda45f84d004c0e7e1c2bf8f2a8e5e39.jpg: 640x640 1 Stain, 17.3ms\n",
            "image 47/47 /content/datasets/test/images/87f494c4935778570820355641_jpg.rf.3fba38d6317fd043e1bea9cf7c614c37.jpg: 640x640 1 Line, 17.7ms\n",
            "Speed: 0.5ms pre-process, 20.0ms inference, 1.7ms postprocess per image at shape (1, 3, 640, 640)\n",
            "Results saved to \u001b[1mruns/detect/predict\u001b[0m\n"
          ]
        }
      ]
    },
    {
      "cell_type": "code",
      "source": [
        "!yolo task=detect mode=predict model=/content/datasets/runs/detect/train6/weights/best.pt conf=0.40 source='/content/WhatsApp Video 2023-12-14 at 7.22.41 PM.mp4'"
      ],
      "metadata": {
        "colab": {
          "base_uri": "https://localhost:8080/"
        },
        "id": "mNgwIHYOKtbL",
        "outputId": "2e2fafa2-1f9c-4d56-a6f5-2d908352f576"
      },
      "execution_count": 32,
      "outputs": [
        {
          "output_type": "stream",
          "name": "stdout",
          "text": [
            "2023-12-14 14:23:55.058010: E tensorflow/compiler/xla/stream_executor/cuda/cuda_dnn.cc:9342] Unable to register cuDNN factory: Attempting to register factory for plugin cuDNN when one has already been registered\n",
            "2023-12-14 14:23:55.058075: E tensorflow/compiler/xla/stream_executor/cuda/cuda_fft.cc:609] Unable to register cuFFT factory: Attempting to register factory for plugin cuFFT when one has already been registered\n",
            "2023-12-14 14:23:55.058117: E tensorflow/compiler/xla/stream_executor/cuda/cuda_blas.cc:1518] Unable to register cuBLAS factory: Attempting to register factory for plugin cuBLAS when one has already been registered\n",
            "2023-12-14 14:23:56.321302: W tensorflow/compiler/tf2tensorrt/utils/py_utils.cc:38] TF-TRT Warning: Could not find TensorRT\n",
            "Ultralytics YOLOv8.0.0 🚀 Python-3.10.12 torch-2.1.0+cu118 CUDA:0 (Tesla T4, 15102MiB)\n",
            "Fusing layers... \n",
            "Model summary: 218 layers, 25842076 parameters, 0 gradients, 78.7 GFLOPs\n",
            "video 1/1 (1/288) /content/WhatsApp Video 2023-12-14 at 7.22.41 PM.mp4: 640x384 2 Holes, 108.6ms\n",
            "video 1/1 (2/288) /content/WhatsApp Video 2023-12-14 at 7.22.41 PM.mp4: 640x384 2 Holes, 25.2ms\n",
            "video 1/1 (3/288) /content/WhatsApp Video 2023-12-14 at 7.22.41 PM.mp4: 640x384 2 Holes, 25.2ms\n",
            "video 1/1 (4/288) /content/WhatsApp Video 2023-12-14 at 7.22.41 PM.mp4: 640x384 2 Holes, 25.2ms\n",
            "video 1/1 (5/288) /content/WhatsApp Video 2023-12-14 at 7.22.41 PM.mp4: 640x384 2 Holes, 22.2ms\n",
            "video 1/1 (6/288) /content/WhatsApp Video 2023-12-14 at 7.22.41 PM.mp4: 640x384 2 Holes, 22.2ms\n",
            "video 1/1 (7/288) /content/WhatsApp Video 2023-12-14 at 7.22.41 PM.mp4: 640x384 2 Holes, 22.2ms\n",
            "video 1/1 (8/288) /content/WhatsApp Video 2023-12-14 at 7.22.41 PM.mp4: 640x384 2 Holes, 24.9ms\n",
            "video 1/1 (9/288) /content/WhatsApp Video 2023-12-14 at 7.22.41 PM.mp4: 640x384 2 Holes, 22.2ms\n",
            "video 1/1 (10/288) /content/WhatsApp Video 2023-12-14 at 7.22.41 PM.mp4: 640x384 2 Holes, 16.9ms\n",
            "video 1/1 (11/288) /content/WhatsApp Video 2023-12-14 at 7.22.41 PM.mp4: 640x384 2 Holes, 16.7ms\n",
            "video 1/1 (12/288) /content/WhatsApp Video 2023-12-14 at 7.22.41 PM.mp4: 640x384 2 Holes, 16.8ms\n",
            "video 1/1 (13/288) /content/WhatsApp Video 2023-12-14 at 7.22.41 PM.mp4: 640x384 2 Holes, 16.7ms\n",
            "video 1/1 (14/288) /content/WhatsApp Video 2023-12-14 at 7.22.41 PM.mp4: 640x384 2 Holes, 16.7ms\n",
            "video 1/1 (15/288) /content/WhatsApp Video 2023-12-14 at 7.22.41 PM.mp4: 640x384 2 Holes, 16.8ms\n",
            "video 1/1 (16/288) /content/WhatsApp Video 2023-12-14 at 7.22.41 PM.mp4: 640x384 2 Holes, 15.1ms\n",
            "video 1/1 (17/288) /content/WhatsApp Video 2023-12-14 at 7.22.41 PM.mp4: 640x384 2 Holes, 13.3ms\n",
            "video 1/1 (18/288) /content/WhatsApp Video 2023-12-14 at 7.22.41 PM.mp4: 640x384 2 Holes, 13.3ms\n",
            "video 1/1 (19/288) /content/WhatsApp Video 2023-12-14 at 7.22.41 PM.mp4: 640x384 2 Holes, 13.3ms\n",
            "video 1/1 (20/288) /content/WhatsApp Video 2023-12-14 at 7.22.41 PM.mp4: 640x384 2 Holes, 16.0ms\n",
            "video 1/1 (21/288) /content/WhatsApp Video 2023-12-14 at 7.22.41 PM.mp4: 640x384 2 Holes, 13.2ms\n",
            "video 1/1 (22/288) /content/WhatsApp Video 2023-12-14 at 7.22.41 PM.mp4: 640x384 2 Holes, 13.1ms\n",
            "video 1/1 (23/288) /content/WhatsApp Video 2023-12-14 at 7.22.41 PM.mp4: 640x384 2 Holes, 13.1ms\n",
            "video 1/1 (24/288) /content/WhatsApp Video 2023-12-14 at 7.22.41 PM.mp4: 640x384 2 Holes, 11.3ms\n",
            "video 1/1 (25/288) /content/WhatsApp Video 2023-12-14 at 7.22.41 PM.mp4: 640x384 2 Holes, 16.8ms\n",
            "video 1/1 (26/288) /content/WhatsApp Video 2023-12-14 at 7.22.41 PM.mp4: 640x384 2 Holes, 11.7ms\n",
            "video 1/1 (27/288) /content/WhatsApp Video 2023-12-14 at 7.22.41 PM.mp4: 640x384 2 Holes, 11.1ms\n",
            "video 1/1 (28/288) /content/WhatsApp Video 2023-12-14 at 7.22.41 PM.mp4: 640x384 2 Holes, 11.6ms\n",
            "video 1/1 (29/288) /content/WhatsApp Video 2023-12-14 at 7.22.41 PM.mp4: 640x384 2 Holes, 1 Stain, 11.3ms\n",
            "video 1/1 (30/288) /content/WhatsApp Video 2023-12-14 at 7.22.41 PM.mp4: 640x384 2 Holes, 11.2ms\n",
            "video 1/1 (31/288) /content/WhatsApp Video 2023-12-14 at 7.22.41 PM.mp4: 640x384 2 Holes, 1 Stain, 11.1ms\n",
            "video 1/1 (32/288) /content/WhatsApp Video 2023-12-14 at 7.22.41 PM.mp4: 640x384 1 Hole, 1 Stain, 11.3ms\n",
            "video 1/1 (33/288) /content/WhatsApp Video 2023-12-14 at 7.22.41 PM.mp4: 640x384 2 Holes, 11.2ms\n",
            "video 1/1 (34/288) /content/WhatsApp Video 2023-12-14 at 7.22.41 PM.mp4: 640x384 1 Hole, 1 Stain, 11.1ms\n",
            "video 1/1 (35/288) /content/WhatsApp Video 2023-12-14 at 7.22.41 PM.mp4: 640x384 1 Hole, 1 Stain, 13.2ms\n",
            "video 1/1 (36/288) /content/WhatsApp Video 2023-12-14 at 7.22.41 PM.mp4: 640x384 1 Hole, 1 Stain, 11.1ms\n",
            "video 1/1 (37/288) /content/WhatsApp Video 2023-12-14 at 7.22.41 PM.mp4: 640x384 1 Hole, 1 Stain, 11.1ms\n",
            "video 1/1 (38/288) /content/WhatsApp Video 2023-12-14 at 7.22.41 PM.mp4: 640x384 1 Hole, 11.2ms\n",
            "video 1/1 (39/288) /content/WhatsApp Video 2023-12-14 at 7.22.41 PM.mp4: 640x384 1 Hole, 11.1ms\n",
            "video 1/1 (40/288) /content/WhatsApp Video 2023-12-14 at 7.22.41 PM.mp4: 640x384 1 Hole, 11.2ms\n",
            "video 1/1 (41/288) /content/WhatsApp Video 2023-12-14 at 7.22.41 PM.mp4: 640x384 1 Hole, 11.4ms\n",
            "video 1/1 (42/288) /content/WhatsApp Video 2023-12-14 at 7.22.41 PM.mp4: 640x384 1 Hole, 11.2ms\n",
            "video 1/1 (43/288) /content/WhatsApp Video 2023-12-14 at 7.22.41 PM.mp4: 640x384 1 Hole, 11.1ms\n",
            "video 1/1 (44/288) /content/WhatsApp Video 2023-12-14 at 7.22.41 PM.mp4: 640x384 1 Hole, 11.1ms\n",
            "video 1/1 (45/288) /content/WhatsApp Video 2023-12-14 at 7.22.41 PM.mp4: 640x384 1 Hole, 11.5ms\n",
            "video 1/1 (46/288) /content/WhatsApp Video 2023-12-14 at 7.22.41 PM.mp4: 640x384 1 Hole, 11.2ms\n",
            "video 1/1 (47/288) /content/WhatsApp Video 2023-12-14 at 7.22.41 PM.mp4: 640x384 1 Hole, 12.2ms\n",
            "video 1/1 (48/288) /content/WhatsApp Video 2023-12-14 at 7.22.41 PM.mp4: 640x384 1 Hole, 12.0ms\n",
            "video 1/1 (49/288) /content/WhatsApp Video 2023-12-14 at 7.22.41 PM.mp4: 640x384 1 Hole, 11.1ms\n",
            "video 1/1 (50/288) /content/WhatsApp Video 2023-12-14 at 7.22.41 PM.mp4: 640x384 1 Hole, 11.1ms\n",
            "video 1/1 (51/288) /content/WhatsApp Video 2023-12-14 at 7.22.41 PM.mp4: 640x384 1 Hole, 11.1ms\n",
            "video 1/1 (52/288) /content/WhatsApp Video 2023-12-14 at 7.22.41 PM.mp4: 640x384 1 Hole, 11.2ms\n",
            "video 1/1 (53/288) /content/WhatsApp Video 2023-12-14 at 7.22.41 PM.mp4: 640x384 1 Hole, 14.1ms\n",
            "video 1/1 (54/288) /content/WhatsApp Video 2023-12-14 at 7.22.41 PM.mp4: 640x384 1 Hole, 14.8ms\n",
            "video 1/1 (55/288) /content/WhatsApp Video 2023-12-14 at 7.22.41 PM.mp4: 640x384 1 Hole, 14.5ms\n",
            "video 1/1 (56/288) /content/WhatsApp Video 2023-12-14 at 7.22.41 PM.mp4: 640x384 1 Hole, 11.1ms\n",
            "video 1/1 (57/288) /content/WhatsApp Video 2023-12-14 at 7.22.41 PM.mp4: 640x384 1 Hole, 11.4ms\n",
            "video 1/1 (58/288) /content/WhatsApp Video 2023-12-14 at 7.22.41 PM.mp4: 640x384 1 Hole, 12.5ms\n",
            "video 1/1 (59/288) /content/WhatsApp Video 2023-12-14 at 7.22.41 PM.mp4: 640x384 1 Hole, 12.6ms\n",
            "video 1/1 (60/288) /content/WhatsApp Video 2023-12-14 at 7.22.41 PM.mp4: 640x384 1 Hole, 11.3ms\n",
            "video 1/1 (61/288) /content/WhatsApp Video 2023-12-14 at 7.22.41 PM.mp4: 640x384 1 Hole, 11.1ms\n",
            "video 1/1 (62/288) /content/WhatsApp Video 2023-12-14 at 7.22.41 PM.mp4: 640x384 11.3ms\n",
            "video 1/1 (63/288) /content/WhatsApp Video 2023-12-14 at 7.22.41 PM.mp4: 640x384 1 Stain, 11.2ms\n",
            "video 1/1 (64/288) /content/WhatsApp Video 2023-12-14 at 7.22.41 PM.mp4: 640x384 1 Stain, 11.3ms\n",
            "video 1/1 (65/288) /content/WhatsApp Video 2023-12-14 at 7.22.41 PM.mp4: 640x384 1 Stain, 12.0ms\n",
            "video 1/1 (66/288) /content/WhatsApp Video 2023-12-14 at 7.22.41 PM.mp4: 640x384 1 Hole, 15.9ms\n",
            "video 1/1 (67/288) /content/WhatsApp Video 2023-12-14 at 7.22.41 PM.mp4: 640x384 1 Hole, 11.7ms\n",
            "video 1/1 (68/288) /content/WhatsApp Video 2023-12-14 at 7.22.41 PM.mp4: 640x384 1 Stain, 11.1ms\n",
            "video 1/1 (69/288) /content/WhatsApp Video 2023-12-14 at 7.22.41 PM.mp4: 640x384 1 Stain, 12.0ms\n",
            "video 1/1 (70/288) /content/WhatsApp Video 2023-12-14 at 7.22.41 PM.mp4: 640x384 1 Stain, 11.1ms\n",
            "video 1/1 (71/288) /content/WhatsApp Video 2023-12-14 at 7.22.41 PM.mp4: 640x384 1 Stain, 11.3ms\n",
            "video 1/1 (72/288) /content/WhatsApp Video 2023-12-14 at 7.22.41 PM.mp4: 640x384 1 Stain, 11.6ms\n",
            "video 1/1 (73/288) /content/WhatsApp Video 2023-12-14 at 7.22.41 PM.mp4: 640x384 1 Stain, 11.5ms\n",
            "video 1/1 (74/288) /content/WhatsApp Video 2023-12-14 at 7.22.41 PM.mp4: 640x384 1 Stain, 11.1ms\n",
            "video 1/1 (75/288) /content/WhatsApp Video 2023-12-14 at 7.22.41 PM.mp4: 640x384 1 Stain, 11.1ms\n",
            "video 1/1 (76/288) /content/WhatsApp Video 2023-12-14 at 7.22.41 PM.mp4: 640x384 1 Stain, 13.0ms\n",
            "video 1/1 (77/288) /content/WhatsApp Video 2023-12-14 at 7.22.41 PM.mp4: 640x384 1 Stain, 14.2ms\n",
            "video 1/1 (78/288) /content/WhatsApp Video 2023-12-14 at 7.22.41 PM.mp4: 640x384 1 Stain, 11.9ms\n",
            "video 1/1 (79/288) /content/WhatsApp Video 2023-12-14 at 7.22.41 PM.mp4: 640x384 1 Stain, 12.0ms\n",
            "video 1/1 (80/288) /content/WhatsApp Video 2023-12-14 at 7.22.41 PM.mp4: 640x384 1 Stain, 14.1ms\n",
            "video 1/1 (81/288) /content/WhatsApp Video 2023-12-14 at 7.22.41 PM.mp4: 640x384 1 Stain, 13.1ms\n",
            "video 1/1 (82/288) /content/WhatsApp Video 2023-12-14 at 7.22.41 PM.mp4: 640x384 1 Stain, 14.3ms\n",
            "video 1/1 (83/288) /content/WhatsApp Video 2023-12-14 at 7.22.41 PM.mp4: 640x384 1 Stain, 11.3ms\n",
            "video 1/1 (84/288) /content/WhatsApp Video 2023-12-14 at 7.22.41 PM.mp4: 640x384 1 Stain, 17.1ms\n",
            "video 1/1 (85/288) /content/WhatsApp Video 2023-12-14 at 7.22.41 PM.mp4: 640x384 1 Stain, 11.1ms\n",
            "video 1/1 (86/288) /content/WhatsApp Video 2023-12-14 at 7.22.41 PM.mp4: 640x384 1 Stain, 11.2ms\n",
            "video 1/1 (87/288) /content/WhatsApp Video 2023-12-14 at 7.22.41 PM.mp4: 640x384 1 Stain, 11.7ms\n",
            "video 1/1 (88/288) /content/WhatsApp Video 2023-12-14 at 7.22.41 PM.mp4: 640x384 1 Stain, 11.9ms\n",
            "video 1/1 (89/288) /content/WhatsApp Video 2023-12-14 at 7.22.41 PM.mp4: 640x384 1 Stain, 11.8ms\n",
            "video 1/1 (90/288) /content/WhatsApp Video 2023-12-14 at 7.22.41 PM.mp4: 640x384 1 Stain, 11.6ms\n",
            "video 1/1 (91/288) /content/WhatsApp Video 2023-12-14 at 7.22.41 PM.mp4: 640x384 1 Stain, 11.4ms\n",
            "video 1/1 (92/288) /content/WhatsApp Video 2023-12-14 at 7.22.41 PM.mp4: 640x384 1 Stain, 11.3ms\n",
            "video 1/1 (93/288) /content/WhatsApp Video 2023-12-14 at 7.22.41 PM.mp4: 640x384 1 Stain, 12.8ms\n",
            "video 1/1 (94/288) /content/WhatsApp Video 2023-12-14 at 7.22.41 PM.mp4: 640x384 1 Stain, 11.1ms\n",
            "video 1/1 (95/288) /content/WhatsApp Video 2023-12-14 at 7.22.41 PM.mp4: 640x384 1 Stain, 11.1ms\n",
            "video 1/1 (96/288) /content/WhatsApp Video 2023-12-14 at 7.22.41 PM.mp4: 640x384 1 Stain, 11.3ms\n",
            "video 1/1 (97/288) /content/WhatsApp Video 2023-12-14 at 7.22.41 PM.mp4: 640x384 1 Stain, 12.5ms\n",
            "video 1/1 (98/288) /content/WhatsApp Video 2023-12-14 at 7.22.41 PM.mp4: 640x384 1 Stain, 11.5ms\n",
            "video 1/1 (99/288) /content/WhatsApp Video 2023-12-14 at 7.22.41 PM.mp4: 640x384 1 Stain, 11.1ms\n",
            "video 1/1 (100/288) /content/WhatsApp Video 2023-12-14 at 7.22.41 PM.mp4: 640x384 1 Stain, 11.1ms\n",
            "video 1/1 (101/288) /content/WhatsApp Video 2023-12-14 at 7.22.41 PM.mp4: 640x384 1 Stain, 11.0ms\n",
            "video 1/1 (102/288) /content/WhatsApp Video 2023-12-14 at 7.22.41 PM.mp4: 640x384 1 Stain, 11.0ms\n",
            "video 1/1 (103/288) /content/WhatsApp Video 2023-12-14 at 7.22.41 PM.mp4: 640x384 1 Stain, 11.1ms\n",
            "video 1/1 (104/288) /content/WhatsApp Video 2023-12-14 at 7.22.41 PM.mp4: 640x384 1 Stain, 11.0ms\n",
            "video 1/1 (105/288) /content/WhatsApp Video 2023-12-14 at 7.22.41 PM.mp4: 640x384 2 Stains, 11.1ms\n",
            "video 1/1 (106/288) /content/WhatsApp Video 2023-12-14 at 7.22.41 PM.mp4: 640x384 1 Hole, 2 Stains, 11.0ms\n",
            "video 1/1 (107/288) /content/WhatsApp Video 2023-12-14 at 7.22.41 PM.mp4: 640x384 2 Stains, 11.1ms\n",
            "video 1/1 (108/288) /content/WhatsApp Video 2023-12-14 at 7.22.41 PM.mp4: 640x384 1 Hole, 1 Stain, 11.0ms\n",
            "video 1/1 (109/288) /content/WhatsApp Video 2023-12-14 at 7.22.41 PM.mp4: 640x384 1 Hole, 1 Stain, 11.0ms\n",
            "video 1/1 (110/288) /content/WhatsApp Video 2023-12-14 at 7.22.41 PM.mp4: 640x384 1 Hole, 1 Stain, 11.2ms\n",
            "video 1/1 (111/288) /content/WhatsApp Video 2023-12-14 at 7.22.41 PM.mp4: 640x384 1 Hole, 1 Stain, 11.2ms\n",
            "video 1/1 (112/288) /content/WhatsApp Video 2023-12-14 at 7.22.41 PM.mp4: 640x384 1 Hole, 2 Stains, 11.3ms\n",
            "video 1/1 (113/288) /content/WhatsApp Video 2023-12-14 at 7.22.41 PM.mp4: 640x384 2 Stains, 11.5ms\n",
            "video 1/1 (114/288) /content/WhatsApp Video 2023-12-14 at 7.22.41 PM.mp4: 640x384 1 Hole, 2 Stains, 11.9ms\n",
            "video 1/1 (115/288) /content/WhatsApp Video 2023-12-14 at 7.22.41 PM.mp4: 640x384 1 Stain, 11.9ms\n",
            "video 1/1 (116/288) /content/WhatsApp Video 2023-12-14 at 7.22.41 PM.mp4: 640x384 1 Stain, 11.9ms\n",
            "video 1/1 (117/288) /content/WhatsApp Video 2023-12-14 at 7.22.41 PM.mp4: 640x384 1 Stain, 11.7ms\n",
            "video 1/1 (118/288) /content/WhatsApp Video 2023-12-14 at 7.22.41 PM.mp4: 640x384 1 Stain, 11.5ms\n",
            "video 1/1 (119/288) /content/WhatsApp Video 2023-12-14 at 7.22.41 PM.mp4: 640x384 1 Stain, 11.5ms\n",
            "video 1/1 (120/288) /content/WhatsApp Video 2023-12-14 at 7.22.41 PM.mp4: 640x384 1 Stain, 11.4ms\n",
            "video 1/1 (121/288) /content/WhatsApp Video 2023-12-14 at 7.22.41 PM.mp4: 640x384 1 Stain, 11.5ms\n",
            "video 1/1 (122/288) /content/WhatsApp Video 2023-12-14 at 7.22.41 PM.mp4: 640x384 1 Stain, 11.8ms\n",
            "video 1/1 (123/288) /content/WhatsApp Video 2023-12-14 at 7.22.41 PM.mp4: 640x384 1 Stain, 11.7ms\n",
            "video 1/1 (124/288) /content/WhatsApp Video 2023-12-14 at 7.22.41 PM.mp4: 640x384 1 Hole, 11.8ms\n",
            "video 1/1 (125/288) /content/WhatsApp Video 2023-12-14 at 7.22.41 PM.mp4: 640x384 1 Stain, 11.6ms\n",
            "video 1/1 (126/288) /content/WhatsApp Video 2023-12-14 at 7.22.41 PM.mp4: 640x384 1 Hole, 11.5ms\n",
            "video 1/1 (127/288) /content/WhatsApp Video 2023-12-14 at 7.22.41 PM.mp4: 640x384 11.5ms\n",
            "video 1/1 (128/288) /content/WhatsApp Video 2023-12-14 at 7.22.41 PM.mp4: 640x384 1 Hole, 11.5ms\n",
            "video 1/1 (129/288) /content/WhatsApp Video 2023-12-14 at 7.22.41 PM.mp4: 640x384 1 Hole, 11.8ms\n",
            "video 1/1 (130/288) /content/WhatsApp Video 2023-12-14 at 7.22.41 PM.mp4: 640x384 1 Hole, 12.0ms\n",
            "video 1/1 (131/288) /content/WhatsApp Video 2023-12-14 at 7.22.41 PM.mp4: 640x384 1 Hole, 11.7ms\n",
            "video 1/1 (132/288) /content/WhatsApp Video 2023-12-14 at 7.22.41 PM.mp4: 640x384 1 Hole, 11.7ms\n",
            "video 1/1 (133/288) /content/WhatsApp Video 2023-12-14 at 7.22.41 PM.mp4: 640x384 1 Hole, 11.5ms\n",
            "video 1/1 (134/288) /content/WhatsApp Video 2023-12-14 at 7.22.41 PM.mp4: 640x384 1 Hole, 11.5ms\n",
            "video 1/1 (135/288) /content/WhatsApp Video 2023-12-14 at 7.22.41 PM.mp4: 640x384 1 Hole, 11.6ms\n",
            "video 1/1 (136/288) /content/WhatsApp Video 2023-12-14 at 7.22.41 PM.mp4: 640x384 1 Hole, 11.4ms\n",
            "video 1/1 (137/288) /content/WhatsApp Video 2023-12-14 at 7.22.41 PM.mp4: 640x384 1 Stain, 11.5ms\n",
            "video 1/1 (138/288) /content/WhatsApp Video 2023-12-14 at 7.22.41 PM.mp4: 640x384 11.5ms\n",
            "video 1/1 (139/288) /content/WhatsApp Video 2023-12-14 at 7.22.41 PM.mp4: 640x384 11.6ms\n",
            "video 1/1 (140/288) /content/WhatsApp Video 2023-12-14 at 7.22.41 PM.mp4: 640x384 12.0ms\n",
            "video 1/1 (141/288) /content/WhatsApp Video 2023-12-14 at 7.22.41 PM.mp4: 640x384 12.3ms\n",
            "video 1/1 (142/288) /content/WhatsApp Video 2023-12-14 at 7.22.41 PM.mp4: 640x384 1 Stain, 12.1ms\n",
            "video 1/1 (143/288) /content/WhatsApp Video 2023-12-14 at 7.22.41 PM.mp4: 640x384 1 Stain, 12.1ms\n",
            "video 1/1 (144/288) /content/WhatsApp Video 2023-12-14 at 7.22.41 PM.mp4: 640x384 1 Stain, 12.0ms\n",
            "video 1/1 (145/288) /content/WhatsApp Video 2023-12-14 at 7.22.41 PM.mp4: 640x384 1 Stain, 12.0ms\n",
            "video 1/1 (146/288) /content/WhatsApp Video 2023-12-14 at 7.22.41 PM.mp4: 640x384 1 Hole, 11.9ms\n",
            "video 1/1 (147/288) /content/WhatsApp Video 2023-12-14 at 7.22.41 PM.mp4: 640x384 1 Hole, 1 Stain, 13.4ms\n",
            "video 1/1 (148/288) /content/WhatsApp Video 2023-12-14 at 7.22.41 PM.mp4: 640x384 1 Stain, 11.4ms\n",
            "video 1/1 (149/288) /content/WhatsApp Video 2023-12-14 at 7.22.41 PM.mp4: 640x384 1 Stain, 11.2ms\n",
            "video 1/1 (150/288) /content/WhatsApp Video 2023-12-14 at 7.22.41 PM.mp4: 640x384 11.1ms\n",
            "video 1/1 (151/288) /content/WhatsApp Video 2023-12-14 at 7.22.41 PM.mp4: 640x384 11.2ms\n",
            "video 1/1 (152/288) /content/WhatsApp Video 2023-12-14 at 7.22.41 PM.mp4: 640x384 12.0ms\n",
            "video 1/1 (153/288) /content/WhatsApp Video 2023-12-14 at 7.22.41 PM.mp4: 640x384 12.6ms\n",
            "video 1/1 (154/288) /content/WhatsApp Video 2023-12-14 at 7.22.41 PM.mp4: 640x384 12.7ms\n",
            "video 1/1 (155/288) /content/WhatsApp Video 2023-12-14 at 7.22.41 PM.mp4: 640x384 12.5ms\n",
            "video 1/1 (156/288) /content/WhatsApp Video 2023-12-14 at 7.22.41 PM.mp4: 640x384 12.4ms\n",
            "video 1/1 (157/288) /content/WhatsApp Video 2023-12-14 at 7.22.41 PM.mp4: 640x384 12.2ms\n",
            "video 1/1 (158/288) /content/WhatsApp Video 2023-12-14 at 7.22.41 PM.mp4: 640x384 11.9ms\n",
            "video 1/1 (159/288) /content/WhatsApp Video 2023-12-14 at 7.22.41 PM.mp4: 640x384 12.4ms\n",
            "video 1/1 (160/288) /content/WhatsApp Video 2023-12-14 at 7.22.41 PM.mp4: 640x384 11.3ms\n",
            "video 1/1 (161/288) /content/WhatsApp Video 2023-12-14 at 7.22.41 PM.mp4: 640x384 11.2ms\n",
            "video 1/1 (162/288) /content/WhatsApp Video 2023-12-14 at 7.22.41 PM.mp4: 640x384 11.8ms\n",
            "video 1/1 (163/288) /content/WhatsApp Video 2023-12-14 at 7.22.41 PM.mp4: 640x384 1 Stain, 11.1ms\n",
            "video 1/1 (164/288) /content/WhatsApp Video 2023-12-14 at 7.22.41 PM.mp4: 640x384 12.2ms\n",
            "video 1/1 (165/288) /content/WhatsApp Video 2023-12-14 at 7.22.41 PM.mp4: 640x384 1 Stain, 11.3ms\n",
            "video 1/1 (166/288) /content/WhatsApp Video 2023-12-14 at 7.22.41 PM.mp4: 640x384 1 Stain, 13.8ms\n",
            "video 1/1 (167/288) /content/WhatsApp Video 2023-12-14 at 7.22.41 PM.mp4: 640x384 1 Stain, 12.4ms\n",
            "video 1/1 (168/288) /content/WhatsApp Video 2023-12-14 at 7.22.41 PM.mp4: 640x384 2 Stains, 11.5ms\n",
            "video 1/1 (169/288) /content/WhatsApp Video 2023-12-14 at 7.22.41 PM.mp4: 640x384 1 Stain, 11.3ms\n",
            "video 1/1 (170/288) /content/WhatsApp Video 2023-12-14 at 7.22.41 PM.mp4: 640x384 2 Stains, 11.6ms\n",
            "video 1/1 (171/288) /content/WhatsApp Video 2023-12-14 at 7.22.41 PM.mp4: 640x384 2 Stains, 11.6ms\n",
            "video 1/1 (172/288) /content/WhatsApp Video 2023-12-14 at 7.22.41 PM.mp4: 640x384 2 Stains, 11.6ms\n",
            "video 1/1 (173/288) /content/WhatsApp Video 2023-12-14 at 7.22.41 PM.mp4: 640x384 1 Hole, 3 Stains, 11.5ms\n",
            "video 1/1 (174/288) /content/WhatsApp Video 2023-12-14 at 7.22.41 PM.mp4: 640x384 3 Stains, 11.5ms\n",
            "video 1/1 (175/288) /content/WhatsApp Video 2023-12-14 at 7.22.41 PM.mp4: 640x384 3 Stains, 11.7ms\n",
            "video 1/1 (176/288) /content/WhatsApp Video 2023-12-14 at 7.22.41 PM.mp4: 640x384 1 Hole, 3 Stains, 12.0ms\n",
            "video 1/1 (177/288) /content/WhatsApp Video 2023-12-14 at 7.22.41 PM.mp4: 640x384 1 Hole, 2 Stains, 12.0ms\n",
            "video 1/1 (178/288) /content/WhatsApp Video 2023-12-14 at 7.22.41 PM.mp4: 640x384 1 Hole, 1 Stain, 11.9ms\n",
            "video 1/1 (179/288) /content/WhatsApp Video 2023-12-14 at 7.22.41 PM.mp4: 640x384 1 Stain, 11.8ms\n",
            "video 1/1 (180/288) /content/WhatsApp Video 2023-12-14 at 7.22.41 PM.mp4: 640x384 2 Stains, 11.8ms\n",
            "video 1/1 (181/288) /content/WhatsApp Video 2023-12-14 at 7.22.41 PM.mp4: 640x384 3 Stains, 11.8ms\n",
            "video 1/1 (182/288) /content/WhatsApp Video 2023-12-14 at 7.22.41 PM.mp4: 640x384 2 Stains, 14.0ms\n",
            "video 1/1 (183/288) /content/WhatsApp Video 2023-12-14 at 7.22.41 PM.mp4: 640x384 3 Stains, 11.3ms\n",
            "video 1/1 (184/288) /content/WhatsApp Video 2023-12-14 at 7.22.41 PM.mp4: 640x384 1 Hole, 2 Stains, 11.2ms\n",
            "video 1/1 (185/288) /content/WhatsApp Video 2023-12-14 at 7.22.41 PM.mp4: 640x384 1 Hole, 2 Stains, 11.1ms\n",
            "video 1/1 (186/288) /content/WhatsApp Video 2023-12-14 at 7.22.41 PM.mp4: 640x384 1 Hole, 2 Stains, 11.1ms\n",
            "video 1/1 (187/288) /content/WhatsApp Video 2023-12-14 at 7.22.41 PM.mp4: 640x384 1 Hole, 2 Stains, 11.1ms\n",
            "video 1/1 (188/288) /content/WhatsApp Video 2023-12-14 at 7.22.41 PM.mp4: 640x384 1 Hole, 2 Stains, 11.2ms\n",
            "video 1/1 (189/288) /content/WhatsApp Video 2023-12-14 at 7.22.41 PM.mp4: 640x384 1 Hole, 2 Stains, 11.1ms\n",
            "video 1/1 (190/288) /content/WhatsApp Video 2023-12-14 at 7.22.41 PM.mp4: 640x384 1 Hole, 2 Stains, 11.1ms\n",
            "video 1/1 (191/288) /content/WhatsApp Video 2023-12-14 at 7.22.41 PM.mp4: 640x384 1 Hole, 3 Stains, 11.0ms\n",
            "video 1/1 (192/288) /content/WhatsApp Video 2023-12-14 at 7.22.41 PM.mp4: 640x384 1 Hole, 3 Stains, 11.0ms\n",
            "video 1/1 (193/288) /content/WhatsApp Video 2023-12-14 at 7.22.41 PM.mp4: 640x384 1 Hole, 3 Stains, 11.1ms\n",
            "video 1/1 (194/288) /content/WhatsApp Video 2023-12-14 at 7.22.41 PM.mp4: 640x384 1 Hole, 3 Stains, 11.1ms\n",
            "video 1/1 (195/288) /content/WhatsApp Video 2023-12-14 at 7.22.41 PM.mp4: 640x384 1 Hole, 4 Stains, 11.2ms\n",
            "video 1/1 (196/288) /content/WhatsApp Video 2023-12-14 at 7.22.41 PM.mp4: 640x384 1 Hole, 3 Stains, 12.6ms\n",
            "video 1/1 (197/288) /content/WhatsApp Video 2023-12-14 at 7.22.41 PM.mp4: 640x384 1 Hole, 3 Stains, 11.2ms\n",
            "video 1/1 (198/288) /content/WhatsApp Video 2023-12-14 at 7.22.41 PM.mp4: 640x384 1 Hole, 3 Stains, 11.1ms\n",
            "video 1/1 (199/288) /content/WhatsApp Video 2023-12-14 at 7.22.41 PM.mp4: 640x384 1 Hole, 4 Stains, 11.1ms\n",
            "video 1/1 (200/288) /content/WhatsApp Video 2023-12-14 at 7.22.41 PM.mp4: 640x384 1 Hole, 3 Stains, 11.1ms\n",
            "video 1/1 (201/288) /content/WhatsApp Video 2023-12-14 at 7.22.41 PM.mp4: 640x384 1 Hole, 3 Stains, 11.1ms\n",
            "video 1/1 (202/288) /content/WhatsApp Video 2023-12-14 at 7.22.41 PM.mp4: 640x384 1 Hole, 3 Stains, 11.1ms\n",
            "video 1/1 (203/288) /content/WhatsApp Video 2023-12-14 at 7.22.41 PM.mp4: 640x384 1 Hole, 3 Stains, 11.2ms\n",
            "video 1/1 (204/288) /content/WhatsApp Video 2023-12-14 at 7.22.41 PM.mp4: 640x384 1 Hole, 3 Stains, 11.6ms\n",
            "video 1/1 (205/288) /content/WhatsApp Video 2023-12-14 at 7.22.41 PM.mp4: 640x384 1 Hole, 4 Stains, 11.9ms\n",
            "video 1/1 (206/288) /content/WhatsApp Video 2023-12-14 at 7.22.41 PM.mp4: 640x384 1 Hole, 3 Stains, 11.9ms\n",
            "video 1/1 (207/288) /content/WhatsApp Video 2023-12-14 at 7.22.41 PM.mp4: 640x384 1 Hole, 3 Stains, 11.8ms\n",
            "video 1/1 (208/288) /content/WhatsApp Video 2023-12-14 at 7.22.41 PM.mp4: 640x384 1 Hole, 3 Stains, 11.5ms\n",
            "video 1/1 (209/288) /content/WhatsApp Video 2023-12-14 at 7.22.41 PM.mp4: 640x384 1 Hole, 3 Stains, 11.3ms\n",
            "video 1/1 (210/288) /content/WhatsApp Video 2023-12-14 at 7.22.41 PM.mp4: 640x384 1 Hole, 3 Stains, 11.1ms\n",
            "video 1/1 (211/288) /content/WhatsApp Video 2023-12-14 at 7.22.41 PM.mp4: 640x384 1 Hole, 4 Stains, 11.1ms\n",
            "video 1/1 (212/288) /content/WhatsApp Video 2023-12-14 at 7.22.41 PM.mp4: 640x384 1 Hole, 3 Stains, 11.1ms\n",
            "video 1/1 (213/288) /content/WhatsApp Video 2023-12-14 at 7.22.41 PM.mp4: 640x384 1 Hole, 3 Stains, 11.1ms\n",
            "video 1/1 (214/288) /content/WhatsApp Video 2023-12-14 at 7.22.41 PM.mp4: 640x384 2 Holes, 2 Stains, 11.1ms\n",
            "video 1/1 (215/288) /content/WhatsApp Video 2023-12-14 at 7.22.41 PM.mp4: 640x384 1 Hole, 2 Stains, 11.0ms\n",
            "video 1/1 (216/288) /content/WhatsApp Video 2023-12-14 at 7.22.41 PM.mp4: 640x384 1 Hole, 2 Stains, 11.0ms\n",
            "video 1/1 (217/288) /content/WhatsApp Video 2023-12-14 at 7.22.41 PM.mp4: 640x384 2 Holes, 2 Stains, 11.0ms\n",
            "video 1/1 (218/288) /content/WhatsApp Video 2023-12-14 at 7.22.41 PM.mp4: 640x384 2 Holes, 2 Stains, 11.0ms\n",
            "video 1/1 (219/288) /content/WhatsApp Video 2023-12-14 at 7.22.41 PM.mp4: 640x384 1 Hole, 2 Stains, 11.0ms\n",
            "video 1/1 (220/288) /content/WhatsApp Video 2023-12-14 at 7.22.41 PM.mp4: 640x384 1 Hole, 3 Stains, 11.0ms\n",
            "video 1/1 (221/288) /content/WhatsApp Video 2023-12-14 at 7.22.41 PM.mp4: 640x384 1 Hole, 3 Stains, 11.1ms\n",
            "video 1/1 (222/288) /content/WhatsApp Video 2023-12-14 at 7.22.41 PM.mp4: 640x384 1 Hole, 3 Stains, 11.0ms\n",
            "video 1/1 (223/288) /content/WhatsApp Video 2023-12-14 at 7.22.41 PM.mp4: 640x384 1 Hole, 3 Stains, 11.1ms\n",
            "video 1/1 (224/288) /content/WhatsApp Video 2023-12-14 at 7.22.41 PM.mp4: 640x384 1 Hole, 2 Stains, 11.9ms\n",
            "video 1/1 (225/288) /content/WhatsApp Video 2023-12-14 at 7.22.41 PM.mp4: 640x384 2 Holes, 2 Stains, 11.3ms\n",
            "video 1/1 (226/288) /content/WhatsApp Video 2023-12-14 at 7.22.41 PM.mp4: 640x384 2 Stains, 11.4ms\n",
            "video 1/1 (227/288) /content/WhatsApp Video 2023-12-14 at 7.22.41 PM.mp4: 640x384 1 Hole, 2 Stains, 11.9ms\n",
            "video 1/1 (228/288) /content/WhatsApp Video 2023-12-14 at 7.22.41 PM.mp4: 640x384 1 Hole, 1 Stain, 11.9ms\n",
            "video 1/1 (229/288) /content/WhatsApp Video 2023-12-14 at 7.22.41 PM.mp4: 640x384 1 Hole, 1 Stain, 11.9ms\n",
            "video 1/1 (230/288) /content/WhatsApp Video 2023-12-14 at 7.22.41 PM.mp4: 640x384 1 Stain, 11.9ms\n",
            "video 1/1 (231/288) /content/WhatsApp Video 2023-12-14 at 7.22.41 PM.mp4: 640x384 1 Stain, 11.7ms\n",
            "video 1/1 (232/288) /content/WhatsApp Video 2023-12-14 at 7.22.41 PM.mp4: 640x384 1 Stain, 11.5ms\n",
            "video 1/1 (233/288) /content/WhatsApp Video 2023-12-14 at 7.22.41 PM.mp4: 640x384 1 Stain, 11.6ms\n",
            "video 1/1 (234/288) /content/WhatsApp Video 2023-12-14 at 7.22.41 PM.mp4: 640x384 1 Stain, 11.7ms\n",
            "video 1/1 (235/288) /content/WhatsApp Video 2023-12-14 at 7.22.41 PM.mp4: 640x384 1 Stain, 11.5ms\n",
            "video 1/1 (236/288) /content/WhatsApp Video 2023-12-14 at 7.22.41 PM.mp4: 640x384 1 Stain, 11.6ms\n",
            "video 1/1 (237/288) /content/WhatsApp Video 2023-12-14 at 7.22.41 PM.mp4: 640x384 1 Stain, 11.7ms\n",
            "video 1/1 (238/288) /content/WhatsApp Video 2023-12-14 at 7.22.41 PM.mp4: 640x384 1 Stain, 11.5ms\n",
            "video 1/1 (239/288) /content/WhatsApp Video 2023-12-14 at 7.22.41 PM.mp4: 640x384 11.4ms\n",
            "video 1/1 (240/288) /content/WhatsApp Video 2023-12-14 at 7.22.41 PM.mp4: 640x384 11.4ms\n",
            "video 1/1 (241/288) /content/WhatsApp Video 2023-12-14 at 7.22.41 PM.mp4: 640x384 11.9ms\n",
            "video 1/1 (242/288) /content/WhatsApp Video 2023-12-14 at 7.22.41 PM.mp4: 640x384 12.3ms\n",
            "video 1/1 (243/288) /content/WhatsApp Video 2023-12-14 at 7.22.41 PM.mp4: 640x384 12.3ms\n",
            "video 1/1 (244/288) /content/WhatsApp Video 2023-12-14 at 7.22.41 PM.mp4: 640x384 12.2ms\n",
            "video 1/1 (245/288) /content/WhatsApp Video 2023-12-14 at 7.22.41 PM.mp4: 640x384 12.0ms\n",
            "video 1/1 (246/288) /content/WhatsApp Video 2023-12-14 at 7.22.41 PM.mp4: 640x384 13.2ms\n",
            "video 1/1 (247/288) /content/WhatsApp Video 2023-12-14 at 7.22.41 PM.mp4: 640x384 11.5ms\n",
            "video 1/1 (248/288) /content/WhatsApp Video 2023-12-14 at 7.22.41 PM.mp4: 640x384 12.0ms\n",
            "video 1/1 (249/288) /content/WhatsApp Video 2023-12-14 at 7.22.41 PM.mp4: 640x384 12.0ms\n",
            "video 1/1 (250/288) /content/WhatsApp Video 2023-12-14 at 7.22.41 PM.mp4: 640x384 11.9ms\n",
            "video 1/1 (251/288) /content/WhatsApp Video 2023-12-14 at 7.22.41 PM.mp4: 640x384 11.9ms\n",
            "video 1/1 (252/288) /content/WhatsApp Video 2023-12-14 at 7.22.41 PM.mp4: 640x384 11.6ms\n",
            "video 1/1 (253/288) /content/WhatsApp Video 2023-12-14 at 7.22.41 PM.mp4: 640x384 11.4ms\n",
            "video 1/1 (254/288) /content/WhatsApp Video 2023-12-14 at 7.22.41 PM.mp4: 640x384 11.2ms\n",
            "video 1/1 (255/288) /content/WhatsApp Video 2023-12-14 at 7.22.41 PM.mp4: 640x384 11.1ms\n",
            "video 1/1 (256/288) /content/WhatsApp Video 2023-12-14 at 7.22.41 PM.mp4: 640x384 12.9ms\n",
            "video 1/1 (257/288) /content/WhatsApp Video 2023-12-14 at 7.22.41 PM.mp4: 640x384 11.2ms\n",
            "video 1/1 (258/288) /content/WhatsApp Video 2023-12-14 at 7.22.41 PM.mp4: 640x384 11.5ms\n",
            "video 1/1 (259/288) /content/WhatsApp Video 2023-12-14 at 7.22.41 PM.mp4: 640x384 11.9ms\n",
            "video 1/1 (260/288) /content/WhatsApp Video 2023-12-14 at 7.22.41 PM.mp4: 640x384 12.2ms\n",
            "video 1/1 (261/288) /content/WhatsApp Video 2023-12-14 at 7.22.41 PM.mp4: 640x384 12.2ms\n",
            "video 1/1 (262/288) /content/WhatsApp Video 2023-12-14 at 7.22.41 PM.mp4: 640x384 12.2ms\n",
            "video 1/1 (263/288) /content/WhatsApp Video 2023-12-14 at 7.22.41 PM.mp4: 640x384 12.0ms\n",
            "video 1/1 (264/288) /content/WhatsApp Video 2023-12-14 at 7.22.41 PM.mp4: 640x384 11.7ms\n",
            "video 1/1 (265/288) /content/WhatsApp Video 2023-12-14 at 7.22.41 PM.mp4: 640x384 11.5ms\n",
            "video 1/1 (266/288) /content/WhatsApp Video 2023-12-14 at 7.22.41 PM.mp4: 640x384 11.2ms\n",
            "video 1/1 (267/288) /content/WhatsApp Video 2023-12-14 at 7.22.41 PM.mp4: 640x384 11.2ms\n",
            "video 1/1 (268/288) /content/WhatsApp Video 2023-12-14 at 7.22.41 PM.mp4: 640x384 11.2ms\n",
            "video 1/1 (269/288) /content/WhatsApp Video 2023-12-14 at 7.22.41 PM.mp4: 640x384 11.5ms\n",
            "video 1/1 (270/288) /content/WhatsApp Video 2023-12-14 at 7.22.41 PM.mp4: 640x384 12.0ms\n",
            "video 1/1 (271/288) /content/WhatsApp Video 2023-12-14 at 7.22.41 PM.mp4: 640x384 12.2ms\n",
            "video 1/1 (272/288) /content/WhatsApp Video 2023-12-14 at 7.22.41 PM.mp4: 640x384 12.2ms\n",
            "video 1/1 (273/288) /content/WhatsApp Video 2023-12-14 at 7.22.41 PM.mp4: 640x384 12.0ms\n",
            "video 1/1 (274/288) /content/WhatsApp Video 2023-12-14 at 7.22.41 PM.mp4: 640x384 11.9ms\n",
            "video 1/1 (275/288) /content/WhatsApp Video 2023-12-14 at 7.22.41 PM.mp4: 640x384 11.9ms\n",
            "video 1/1 (276/288) /content/WhatsApp Video 2023-12-14 at 7.22.41 PM.mp4: 640x384 12.0ms\n",
            "video 1/1 (277/288) /content/WhatsApp Video 2023-12-14 at 7.22.41 PM.mp4: 640x384 12.0ms\n",
            "video 1/1 (278/288) /content/WhatsApp Video 2023-12-14 at 7.22.41 PM.mp4: 640x384 11.9ms\n",
            "video 1/1 (279/288) /content/WhatsApp Video 2023-12-14 at 7.22.41 PM.mp4: 640x384 11.4ms\n",
            "video 1/1 (280/288) /content/WhatsApp Video 2023-12-14 at 7.22.41 PM.mp4: 640x384 11.2ms\n",
            "video 1/1 (281/288) /content/WhatsApp Video 2023-12-14 at 7.22.41 PM.mp4: 640x384 11.4ms\n",
            "video 1/1 (282/288) /content/WhatsApp Video 2023-12-14 at 7.22.41 PM.mp4: 640x384 11.8ms\n",
            "video 1/1 (283/288) /content/WhatsApp Video 2023-12-14 at 7.22.41 PM.mp4: 640x384 12.0ms\n",
            "video 1/1 (284/288) /content/WhatsApp Video 2023-12-14 at 7.22.41 PM.mp4: 640x384 12.1ms\n",
            "video 1/1 (285/288) /content/WhatsApp Video 2023-12-14 at 7.22.41 PM.mp4: 640x384 12.2ms\n",
            "video 1/1 (286/288) /content/WhatsApp Video 2023-12-14 at 7.22.41 PM.mp4: 640x384 12.1ms\n",
            "video 1/1 (287/288) /content/WhatsApp Video 2023-12-14 at 7.22.41 PM.mp4: 640x384 12.2ms\n",
            "video 1/1 (288/288) /content/WhatsApp Video 2023-12-14 at 7.22.41 PM.mp4: 640x384 12.2ms\n",
            "Speed: 0.4ms pre-process, 12.6ms inference, 1.5ms postprocess per image at shape (1, 3, 640, 640)\n",
            "Results saved to \u001b[1mruns/detect/predict5\u001b[0m\n"
          ]
        }
      ]
    },
    {
      "cell_type": "code",
      "source": [],
      "metadata": {
        "id": "oo0qzJHbpzaQ"
      },
      "execution_count": null,
      "outputs": []
    }
  ]
}